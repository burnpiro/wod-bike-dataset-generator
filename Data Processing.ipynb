{
 "cells": [
  {
   "cell_type": "code",
   "execution_count": 1,
   "metadata": {},
   "outputs": [],
   "source": [
    "from __future__ import absolute_import, division, print_function, unicode_literals\n",
    "import functools\n",
    "from IPython.display import Image\n",
    "import pandas as pd\n",
    "import numpy as np\n",
    "import seaborn as sns\n",
    "import matplotlib.pyplot as plt\n",
    "import glob\n",
    "%matplotlib inline\n",
    "pd.set_option(\"display.precision\", 2)"
   ]
  },
  {
   "cell_type": "code",
   "execution_count": 3,
   "metadata": {},
   "outputs": [],
   "source": [
    "from processing_helper import extract_data\n",
    "paths = [\n",
    "    r'./data',\n",
    "]\n",
    "\n",
    "result_columns = ['mean', 'std', 'min', 'max', 'leafs', 'time', 'ratio', 'name']\n",
    "results = {}\n",
    "for path in paths:\n",
    "    all_files = sorted(glob.glob(path + \"/*.csv\"))\n",
    "    \n",
    "    for idx, filename in enumerate(all_files):\n",
    "        data = extract_data(filename)\n",
    "        \n",
    "        grouped_data = data.groupby(['rental_place', 'return_place']).size().reset_index()\n",
    "        grouped_data = grouped_data.rename(columns={\n",
    "            'rental_place': 'Source',\n",
    "            'return_place': 'Target',\n",
    "            0: 'Weight'\n",
    "        })\n",
    "        grouped_data['Type'] = 'Directed'\n",
    "        grouped_data.to_csv('networks/'+filename.split('_')[-1], index=False)"
   ]
  },
  {
   "cell_type": "code",
   "execution_count": null,
   "metadata": {},
   "outputs": [],
   "source": []
  }
 ],
 "metadata": {
  "kernelspec": {
   "display_name": "Python 3",
   "language": "python",
   "name": "python3"
  },
  "language_info": {
   "codemirror_mode": {
    "name": "ipython",
    "version": 3
   },
   "file_extension": ".py",
   "mimetype": "text/x-python",
   "name": "python",
   "nbconvert_exporter": "python",
   "pygments_lexer": "ipython3",
   "version": "3.7.6"
  }
 },
 "nbformat": 4,
 "nbformat_minor": 4
}
