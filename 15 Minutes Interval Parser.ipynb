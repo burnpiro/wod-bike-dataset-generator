{
 "cells": [
  {
   "cell_type": "markdown",
   "metadata": {},
   "source": [
    "## Preprocess data into 15 intervals"
   ]
  },
  {
   "cell_type": "markdown",
   "metadata": {},
   "source": [
    "## Imports"
   ]
  },
  {
   "cell_type": "code",
   "execution_count": 2,
   "metadata": {},
   "outputs": [],
   "source": [
    "from __future__ import absolute_import, division, print_function, unicode_literals\n",
    "import functools\n",
    "from IPython.display import Image\n",
    "import pandas as pd\n",
    "import numpy as np\n",
    "import seaborn as sns\n",
    "import matplotlib.pyplot as plt\n",
    "import glob\n",
    "\n",
    "from os.path import join\n",
    "\n",
    "from processing_helper import extract_data\n",
    "\n",
    "\n",
    "%matplotlib inline\n",
    "pd.set_option(\"display.precision\", 2)"
   ]
  },
  {
   "cell_type": "code",
   "execution_count": 5,
   "metadata": {},
   "outputs": [
    {
     "data": {
      "text/plain": [
       "'data/historia_przejazdow_2019-03.csv'"
      ]
     },
     "execution_count": 5,
     "metadata": {},
     "output_type": "execute_result"
    }
   ],
   "source": [
    "PATH = join(\"data\", \"historia_przejazdow_2019-03.csv\")\n",
    "PATH"
   ]
  },
  {
   "cell_type": "code",
   "execution_count": 6,
   "metadata": {},
   "outputs": [
    {
     "data": {
      "text/html": [
       "<div>\n",
       "<style scoped>\n",
       "    .dataframe tbody tr th:only-of-type {\n",
       "        vertical-align: middle;\n",
       "    }\n",
       "\n",
       "    .dataframe tbody tr th {\n",
       "        vertical-align: top;\n",
       "    }\n",
       "\n",
       "    .dataframe thead th {\n",
       "        text-align: right;\n",
       "    }\n",
       "</style>\n",
       "<table border=\"1\" class=\"dataframe\">\n",
       "  <thead>\n",
       "    <tr style=\"text-align: right;\">\n",
       "      <th></th>\n",
       "      <th>uid</th>\n",
       "      <th>bike_number</th>\n",
       "      <th>start_time</th>\n",
       "      <th>end_time</th>\n",
       "      <th>rental_place</th>\n",
       "      <th>return_place</th>\n",
       "    </tr>\n",
       "  </thead>\n",
       "  <tbody>\n",
       "    <tr>\n",
       "      <th>886</th>\n",
       "      <td>65533380</td>\n",
       "      <td>57114</td>\n",
       "      <td>2019-03-15 10:21:55</td>\n",
       "      <td>2019-03-15 10:28:18</td>\n",
       "      <td>Świdnicka / Piłsudskiego (Hotel Scandic)</td>\n",
       "      <td>Świdnicka / Piłsudskiego (Hotel Scandic)</td>\n",
       "    </tr>\n",
       "    <tr>\n",
       "      <th>887</th>\n",
       "      <td>65533368</td>\n",
       "      <td>57092</td>\n",
       "      <td>2019-03-15 10:21:32</td>\n",
       "      <td>2019-03-15 10:28:23</td>\n",
       "      <td>Świdnicka / Piłsudskiego (Hotel Scandic)</td>\n",
       "      <td>Świdnicka / Piłsudskiego (Hotel Scandic)</td>\n",
       "    </tr>\n",
       "    <tr>\n",
       "      <th>888</th>\n",
       "      <td>65533283</td>\n",
       "      <td>57060</td>\n",
       "      <td>2019-03-15 10:18:19</td>\n",
       "      <td>2019-03-15 10:32:18</td>\n",
       "      <td>Świdnicka / Piłsudskiego (Hotel Scandic)</td>\n",
       "      <td>Świdnicka / Piłsudskiego (Hotel Scandic)</td>\n",
       "    </tr>\n",
       "    <tr>\n",
       "      <th>889</th>\n",
       "      <td>65533213</td>\n",
       "      <td>57115</td>\n",
       "      <td>2019-03-15 10:15:20</td>\n",
       "      <td>2019-03-15 10:32:21</td>\n",
       "      <td>Świdnicka / Piłsudskiego (Hotel Scandic)</td>\n",
       "      <td>Świdnicka / Piłsudskiego (Hotel Scandic)</td>\n",
       "    </tr>\n",
       "    <tr>\n",
       "      <th>890</th>\n",
       "      <td>65533616</td>\n",
       "      <td>57114</td>\n",
       "      <td>2019-03-15 10:32:19</td>\n",
       "      <td>2019-03-15 10:34:08</td>\n",
       "      <td>Świdnicka / Piłsudskiego (Hotel Scandic)</td>\n",
       "      <td>Świdnicka / Piłsudskiego (Hotel Scandic)</td>\n",
       "    </tr>\n",
       "  </tbody>\n",
       "</table>\n",
       "</div>"
      ],
      "text/plain": [
       "          uid  bike_number           start_time             end_time  \\\n",
       "886  65533380        57114  2019-03-15 10:21:55  2019-03-15 10:28:18   \n",
       "887  65533368        57092  2019-03-15 10:21:32  2019-03-15 10:28:23   \n",
       "888  65533283        57060  2019-03-15 10:18:19  2019-03-15 10:32:18   \n",
       "889  65533213        57115  2019-03-15 10:15:20  2019-03-15 10:32:21   \n",
       "890  65533616        57114  2019-03-15 10:32:19  2019-03-15 10:34:08   \n",
       "\n",
       "                                 rental_place  \\\n",
       "886  Świdnicka / Piłsudskiego (Hotel Scandic)   \n",
       "887  Świdnicka / Piłsudskiego (Hotel Scandic)   \n",
       "888  Świdnicka / Piłsudskiego (Hotel Scandic)   \n",
       "889  Świdnicka / Piłsudskiego (Hotel Scandic)   \n",
       "890  Świdnicka / Piłsudskiego (Hotel Scandic)   \n",
       "\n",
       "                                 return_place  \n",
       "886  Świdnicka / Piłsudskiego (Hotel Scandic)  \n",
       "887  Świdnicka / Piłsudskiego (Hotel Scandic)  \n",
       "888  Świdnicka / Piłsudskiego (Hotel Scandic)  \n",
       "889  Świdnicka / Piłsudskiego (Hotel Scandic)  \n",
       "890  Świdnicka / Piłsudskiego (Hotel Scandic)  "
      ]
     },
     "execution_count": 6,
     "metadata": {},
     "output_type": "execute_result"
    }
   ],
   "source": [
    "df = pd.read_csv(PATH, index_col=0, parse_dates=True)\n",
    "\n",
    "df = df[(df[\"rental_place\"] !=\"Poza stacją\") & (df[\"return_place\"] !=\"Poza stacją\")]\n",
    "\n",
    "df.head()"
   ]
  },
  {
   "cell_type": "code",
   "execution_count": 7,
   "metadata": {},
   "outputs": [
    {
     "data": {
      "text/html": [
       "<div>\n",
       "<style scoped>\n",
       "    .dataframe tbody tr th:only-of-type {\n",
       "        vertical-align: middle;\n",
       "    }\n",
       "\n",
       "    .dataframe tbody tr th {\n",
       "        vertical-align: top;\n",
       "    }\n",
       "\n",
       "    .dataframe thead th {\n",
       "        text-align: right;\n",
       "    }\n",
       "</style>\n",
       "<table border=\"1\" class=\"dataframe\">\n",
       "  <thead>\n",
       "    <tr style=\"text-align: right;\">\n",
       "      <th></th>\n",
       "      <th>uid</th>\n",
       "      <th>bike_number</th>\n",
       "      <th>start_time</th>\n",
       "      <th>end_time</th>\n",
       "      <th>rental_place</th>\n",
       "      <th>return_place</th>\n",
       "    </tr>\n",
       "  </thead>\n",
       "  <tbody>\n",
       "    <tr>\n",
       "      <th>886</th>\n",
       "      <td>65533380</td>\n",
       "      <td>57114</td>\n",
       "      <td>2019-03-15 10:21:55</td>\n",
       "      <td>2019-03-15 10:28:18</td>\n",
       "      <td>Świdnicka / Piłsudskiego (Hotel Scandic)</td>\n",
       "      <td>Świdnicka / Piłsudskiego (Hotel Scandic)</td>\n",
       "    </tr>\n",
       "    <tr>\n",
       "      <th>887</th>\n",
       "      <td>65533368</td>\n",
       "      <td>57092</td>\n",
       "      <td>2019-03-15 10:21:32</td>\n",
       "      <td>2019-03-15 10:28:23</td>\n",
       "      <td>Świdnicka / Piłsudskiego (Hotel Scandic)</td>\n",
       "      <td>Świdnicka / Piłsudskiego (Hotel Scandic)</td>\n",
       "    </tr>\n",
       "    <tr>\n",
       "      <th>888</th>\n",
       "      <td>65533283</td>\n",
       "      <td>57060</td>\n",
       "      <td>2019-03-15 10:18:19</td>\n",
       "      <td>2019-03-15 10:32:18</td>\n",
       "      <td>Świdnicka / Piłsudskiego (Hotel Scandic)</td>\n",
       "      <td>Świdnicka / Piłsudskiego (Hotel Scandic)</td>\n",
       "    </tr>\n",
       "    <tr>\n",
       "      <th>889</th>\n",
       "      <td>65533213</td>\n",
       "      <td>57115</td>\n",
       "      <td>2019-03-15 10:15:20</td>\n",
       "      <td>2019-03-15 10:32:21</td>\n",
       "      <td>Świdnicka / Piłsudskiego (Hotel Scandic)</td>\n",
       "      <td>Świdnicka / Piłsudskiego (Hotel Scandic)</td>\n",
       "    </tr>\n",
       "    <tr>\n",
       "      <th>890</th>\n",
       "      <td>65533616</td>\n",
       "      <td>57114</td>\n",
       "      <td>2019-03-15 10:32:19</td>\n",
       "      <td>2019-03-15 10:34:08</td>\n",
       "      <td>Świdnicka / Piłsudskiego (Hotel Scandic)</td>\n",
       "      <td>Świdnicka / Piłsudskiego (Hotel Scandic)</td>\n",
       "    </tr>\n",
       "  </tbody>\n",
       "</table>\n",
       "</div>"
      ],
      "text/plain": [
       "          uid  bike_number          start_time            end_time  \\\n",
       "886  65533380        57114 2019-03-15 10:21:55 2019-03-15 10:28:18   \n",
       "887  65533368        57092 2019-03-15 10:21:32 2019-03-15 10:28:23   \n",
       "888  65533283        57060 2019-03-15 10:18:19 2019-03-15 10:32:18   \n",
       "889  65533213        57115 2019-03-15 10:15:20 2019-03-15 10:32:21   \n",
       "890  65533616        57114 2019-03-15 10:32:19 2019-03-15 10:34:08   \n",
       "\n",
       "                                 rental_place  \\\n",
       "886  Świdnicka / Piłsudskiego (Hotel Scandic)   \n",
       "887  Świdnicka / Piłsudskiego (Hotel Scandic)   \n",
       "888  Świdnicka / Piłsudskiego (Hotel Scandic)   \n",
       "889  Świdnicka / Piłsudskiego (Hotel Scandic)   \n",
       "890  Świdnicka / Piłsudskiego (Hotel Scandic)   \n",
       "\n",
       "                                 return_place  \n",
       "886  Świdnicka / Piłsudskiego (Hotel Scandic)  \n",
       "887  Świdnicka / Piłsudskiego (Hotel Scandic)  \n",
       "888  Świdnicka / Piłsudskiego (Hotel Scandic)  \n",
       "889  Świdnicka / Piłsudskiego (Hotel Scandic)  \n",
       "890  Świdnicka / Piłsudskiego (Hotel Scandic)  "
      ]
     },
     "execution_count": 7,
     "metadata": {},
     "output_type": "execute_result"
    }
   ],
   "source": [
    "df['start_time']= pd.to_datetime(df['start_time']) \n",
    "df['end_time']= pd.to_datetime(df['end_time'])\n",
    "df.head()"
   ]
  },
  {
   "cell_type": "markdown",
   "metadata": {},
   "source": [
    "## Add difference in minutes between start and end of a rental"
   ]
  },
  {
   "cell_type": "code",
   "execution_count": 8,
   "metadata": {},
   "outputs": [
    {
     "data": {
      "text/html": [
       "<div>\n",
       "<style scoped>\n",
       "    .dataframe tbody tr th:only-of-type {\n",
       "        vertical-align: middle;\n",
       "    }\n",
       "\n",
       "    .dataframe tbody tr th {\n",
       "        vertical-align: top;\n",
       "    }\n",
       "\n",
       "    .dataframe thead th {\n",
       "        text-align: right;\n",
       "    }\n",
       "</style>\n",
       "<table border=\"1\" class=\"dataframe\">\n",
       "  <thead>\n",
       "    <tr style=\"text-align: right;\">\n",
       "      <th></th>\n",
       "      <th>uid</th>\n",
       "      <th>bike_number</th>\n",
       "      <th>start_time</th>\n",
       "      <th>end_time</th>\n",
       "      <th>rental_place</th>\n",
       "      <th>return_place</th>\n",
       "      <th>difference_in_minutes</th>\n",
       "    </tr>\n",
       "  </thead>\n",
       "  <tbody>\n",
       "    <tr>\n",
       "      <th>886</th>\n",
       "      <td>65533380</td>\n",
       "      <td>57114</td>\n",
       "      <td>2019-03-15 10:21:55</td>\n",
       "      <td>2019-03-15 10:28:18</td>\n",
       "      <td>Świdnicka / Piłsudskiego (Hotel Scandic)</td>\n",
       "      <td>Świdnicka / Piłsudskiego (Hotel Scandic)</td>\n",
       "      <td>6</td>\n",
       "    </tr>\n",
       "    <tr>\n",
       "      <th>887</th>\n",
       "      <td>65533368</td>\n",
       "      <td>57092</td>\n",
       "      <td>2019-03-15 10:21:32</td>\n",
       "      <td>2019-03-15 10:28:23</td>\n",
       "      <td>Świdnicka / Piłsudskiego (Hotel Scandic)</td>\n",
       "      <td>Świdnicka / Piłsudskiego (Hotel Scandic)</td>\n",
       "      <td>6</td>\n",
       "    </tr>\n",
       "    <tr>\n",
       "      <th>888</th>\n",
       "      <td>65533283</td>\n",
       "      <td>57060</td>\n",
       "      <td>2019-03-15 10:18:19</td>\n",
       "      <td>2019-03-15 10:32:18</td>\n",
       "      <td>Świdnicka / Piłsudskiego (Hotel Scandic)</td>\n",
       "      <td>Świdnicka / Piłsudskiego (Hotel Scandic)</td>\n",
       "      <td>13</td>\n",
       "    </tr>\n",
       "    <tr>\n",
       "      <th>889</th>\n",
       "      <td>65533213</td>\n",
       "      <td>57115</td>\n",
       "      <td>2019-03-15 10:15:20</td>\n",
       "      <td>2019-03-15 10:32:21</td>\n",
       "      <td>Świdnicka / Piłsudskiego (Hotel Scandic)</td>\n",
       "      <td>Świdnicka / Piłsudskiego (Hotel Scandic)</td>\n",
       "      <td>17</td>\n",
       "    </tr>\n",
       "    <tr>\n",
       "      <th>890</th>\n",
       "      <td>65533616</td>\n",
       "      <td>57114</td>\n",
       "      <td>2019-03-15 10:32:19</td>\n",
       "      <td>2019-03-15 10:34:08</td>\n",
       "      <td>Świdnicka / Piłsudskiego (Hotel Scandic)</td>\n",
       "      <td>Świdnicka / Piłsudskiego (Hotel Scandic)</td>\n",
       "      <td>1</td>\n",
       "    </tr>\n",
       "  </tbody>\n",
       "</table>\n",
       "</div>"
      ],
      "text/plain": [
       "          uid  bike_number          start_time            end_time  \\\n",
       "886  65533380        57114 2019-03-15 10:21:55 2019-03-15 10:28:18   \n",
       "887  65533368        57092 2019-03-15 10:21:32 2019-03-15 10:28:23   \n",
       "888  65533283        57060 2019-03-15 10:18:19 2019-03-15 10:32:18   \n",
       "889  65533213        57115 2019-03-15 10:15:20 2019-03-15 10:32:21   \n",
       "890  65533616        57114 2019-03-15 10:32:19 2019-03-15 10:34:08   \n",
       "\n",
       "                                 rental_place  \\\n",
       "886  Świdnicka / Piłsudskiego (Hotel Scandic)   \n",
       "887  Świdnicka / Piłsudskiego (Hotel Scandic)   \n",
       "888  Świdnicka / Piłsudskiego (Hotel Scandic)   \n",
       "889  Świdnicka / Piłsudskiego (Hotel Scandic)   \n",
       "890  Świdnicka / Piłsudskiego (Hotel Scandic)   \n",
       "\n",
       "                                 return_place  difference_in_minutes  \n",
       "886  Świdnicka / Piłsudskiego (Hotel Scandic)                      6  \n",
       "887  Świdnicka / Piłsudskiego (Hotel Scandic)                      6  \n",
       "888  Świdnicka / Piłsudskiego (Hotel Scandic)                     13  \n",
       "889  Świdnicka / Piłsudskiego (Hotel Scandic)                     17  \n",
       "890  Świdnicka / Piłsudskiego (Hotel Scandic)                      1  "
      ]
     },
     "execution_count": 8,
     "metadata": {},
     "output_type": "execute_result"
    }
   ],
   "source": [
    "difference_in_minutes = (df['end_time'] - df['start_time']).dt.seconds//60\n",
    "df[\"difference_in_minutes\"] = difference_in_minutes\n",
    "\n",
    "df.head()"
   ]
  },
  {
   "cell_type": "markdown",
   "metadata": {},
   "source": [
    "## Filter records with a rental shorter then 1 min"
   ]
  },
  {
   "cell_type": "code",
   "execution_count": 9,
   "metadata": {},
   "outputs": [
    {
     "data": {
      "text/html": [
       "<div>\n",
       "<style scoped>\n",
       "    .dataframe tbody tr th:only-of-type {\n",
       "        vertical-align: middle;\n",
       "    }\n",
       "\n",
       "    .dataframe tbody tr th {\n",
       "        vertical-align: top;\n",
       "    }\n",
       "\n",
       "    .dataframe thead th {\n",
       "        text-align: right;\n",
       "    }\n",
       "</style>\n",
       "<table border=\"1\" class=\"dataframe\">\n",
       "  <thead>\n",
       "    <tr style=\"text-align: right;\">\n",
       "      <th></th>\n",
       "      <th>uid</th>\n",
       "      <th>bike_number</th>\n",
       "      <th>start_time</th>\n",
       "      <th>end_time</th>\n",
       "      <th>rental_place</th>\n",
       "      <th>return_place</th>\n",
       "      <th>difference_in_minutes</th>\n",
       "    </tr>\n",
       "  </thead>\n",
       "  <tbody>\n",
       "    <tr>\n",
       "      <th>886</th>\n",
       "      <td>65533380</td>\n",
       "      <td>57114</td>\n",
       "      <td>2019-03-15 10:21:55</td>\n",
       "      <td>2019-03-15 10:28:18</td>\n",
       "      <td>Świdnicka / Piłsudskiego (Hotel Scandic)</td>\n",
       "      <td>Świdnicka / Piłsudskiego (Hotel Scandic)</td>\n",
       "      <td>6</td>\n",
       "    </tr>\n",
       "    <tr>\n",
       "      <th>887</th>\n",
       "      <td>65533368</td>\n",
       "      <td>57092</td>\n",
       "      <td>2019-03-15 10:21:32</td>\n",
       "      <td>2019-03-15 10:28:23</td>\n",
       "      <td>Świdnicka / Piłsudskiego (Hotel Scandic)</td>\n",
       "      <td>Świdnicka / Piłsudskiego (Hotel Scandic)</td>\n",
       "      <td>6</td>\n",
       "    </tr>\n",
       "    <tr>\n",
       "      <th>888</th>\n",
       "      <td>65533283</td>\n",
       "      <td>57060</td>\n",
       "      <td>2019-03-15 10:18:19</td>\n",
       "      <td>2019-03-15 10:32:18</td>\n",
       "      <td>Świdnicka / Piłsudskiego (Hotel Scandic)</td>\n",
       "      <td>Świdnicka / Piłsudskiego (Hotel Scandic)</td>\n",
       "      <td>13</td>\n",
       "    </tr>\n",
       "    <tr>\n",
       "      <th>889</th>\n",
       "      <td>65533213</td>\n",
       "      <td>57115</td>\n",
       "      <td>2019-03-15 10:15:20</td>\n",
       "      <td>2019-03-15 10:32:21</td>\n",
       "      <td>Świdnicka / Piłsudskiego (Hotel Scandic)</td>\n",
       "      <td>Świdnicka / Piłsudskiego (Hotel Scandic)</td>\n",
       "      <td>17</td>\n",
       "    </tr>\n",
       "    <tr>\n",
       "      <th>890</th>\n",
       "      <td>65533616</td>\n",
       "      <td>57114</td>\n",
       "      <td>2019-03-15 10:32:19</td>\n",
       "      <td>2019-03-15 10:34:08</td>\n",
       "      <td>Świdnicka / Piłsudskiego (Hotel Scandic)</td>\n",
       "      <td>Świdnicka / Piłsudskiego (Hotel Scandic)</td>\n",
       "      <td>1</td>\n",
       "    </tr>\n",
       "  </tbody>\n",
       "</table>\n",
       "</div>"
      ],
      "text/plain": [
       "          uid  bike_number          start_time            end_time  \\\n",
       "886  65533380        57114 2019-03-15 10:21:55 2019-03-15 10:28:18   \n",
       "887  65533368        57092 2019-03-15 10:21:32 2019-03-15 10:28:23   \n",
       "888  65533283        57060 2019-03-15 10:18:19 2019-03-15 10:32:18   \n",
       "889  65533213        57115 2019-03-15 10:15:20 2019-03-15 10:32:21   \n",
       "890  65533616        57114 2019-03-15 10:32:19 2019-03-15 10:34:08   \n",
       "\n",
       "                                 rental_place  \\\n",
       "886  Świdnicka / Piłsudskiego (Hotel Scandic)   \n",
       "887  Świdnicka / Piłsudskiego (Hotel Scandic)   \n",
       "888  Świdnicka / Piłsudskiego (Hotel Scandic)   \n",
       "889  Świdnicka / Piłsudskiego (Hotel Scandic)   \n",
       "890  Świdnicka / Piłsudskiego (Hotel Scandic)   \n",
       "\n",
       "                                 return_place  difference_in_minutes  \n",
       "886  Świdnicka / Piłsudskiego (Hotel Scandic)                      6  \n",
       "887  Świdnicka / Piłsudskiego (Hotel Scandic)                      6  \n",
       "888  Świdnicka / Piłsudskiego (Hotel Scandic)                     13  \n",
       "889  Świdnicka / Piłsudskiego (Hotel Scandic)                     17  \n",
       "890  Świdnicka / Piłsudskiego (Hotel Scandic)                      1  "
      ]
     },
     "execution_count": 9,
     "metadata": {},
     "output_type": "execute_result"
    }
   ],
   "source": [
    "df = df[df[\"difference_in_minutes\"] >=1]\n",
    "\n",
    "df.head()"
   ]
  },
  {
   "cell_type": "markdown",
   "metadata": {},
   "source": [
    "## Divide in intervals"
   ]
  },
  {
   "cell_type": "markdown",
   "metadata": {},
   "source": [
    "### Earliest rental "
   ]
  },
  {
   "cell_type": "code",
   "execution_count": 14,
   "metadata": {},
   "outputs": [
    {
     "data": {
      "text/plain": [
       "Timestamp('2019-03-11 21:29:35')"
      ]
     },
     "execution_count": 14,
     "metadata": {},
     "output_type": "execute_result"
    }
   ],
   "source": [
    "start = df.start_time.min()\n",
    "start"
   ]
  },
  {
   "cell_type": "markdown",
   "metadata": {},
   "source": [
    "### Latest return"
   ]
  },
  {
   "cell_type": "code",
   "execution_count": 19,
   "metadata": {},
   "outputs": [
    {
     "data": {
      "text/plain": [
       "Timestamp('2019-04-01 00:48:13')"
      ]
     },
     "execution_count": 19,
     "metadata": {},
     "output_type": "execute_result"
    }
   ],
   "source": [
    "end = df.end_time.max()\n",
    "end"
   ]
  },
  {
   "cell_type": "code",
   "execution_count": 49,
   "metadata": {},
   "outputs": [
    {
     "data": {
      "text/plain": [
       "DatetimeIndex(['2019-03-11 21:29:35', '2019-03-11 21:44:35',\n",
       "               '2019-03-11 21:59:35', '2019-03-11 22:14:35',\n",
       "               '2019-03-11 22:29:35', '2019-03-11 22:44:35',\n",
       "               '2019-03-11 22:59:35', '2019-03-11 23:14:35',\n",
       "               '2019-03-11 23:29:35', '2019-03-11 23:44:35',\n",
       "               ...\n",
       "               '2019-03-31 22:29:35', '2019-03-31 22:44:35',\n",
       "               '2019-03-31 22:59:35', '2019-03-31 23:14:35',\n",
       "               '2019-03-31 23:29:35', '2019-03-31 23:44:35',\n",
       "               '2019-03-31 23:59:35', '2019-04-01 00:14:35',\n",
       "               '2019-04-01 00:29:35', '2019-04-01 00:44:35'],\n",
       "              dtype='datetime64[ns]', length=1934, freq='15T')"
      ]
     },
     "execution_count": 49,
     "metadata": {},
     "output_type": "execute_result"
    }
   ],
   "source": [
    "ranges = pd.date_range(start, end, freq='15T')\n",
    "ranges"
   ]
  },
  {
   "cell_type": "code",
   "execution_count": 48,
   "metadata": {},
   "outputs": [
    {
     "ename": "ValueError",
     "evalue": "Unexpected type 'datetime'. 'values' must be a DatetimeArray ndarray, or Series or Index containing one of those.",
     "output_type": "error",
     "traceback": [
      "\u001b[0;31m---------------------------------------------------------------------------\u001b[0m",
      "\u001b[0;31mValueError\u001b[0m                                Traceback (most recent call last)",
      "\u001b[0;32m<ipython-input-48-95b7b4c4be61>\u001b[0m in \u001b[0;36m<module>\u001b[0;34m\u001b[0m\n\u001b[1;32m      5\u001b[0m     \u001b[0minterval_end\u001b[0m \u001b[0;34m=\u001b[0m \u001b[0minterval_end\u001b[0m\u001b[0;34m.\u001b[0m\u001b[0mto_pydatetime\u001b[0m\u001b[0;34m(\u001b[0m\u001b[0;34m)\u001b[0m\u001b[0;34m\u001b[0m\u001b[0;34m\u001b[0m\u001b[0m\n\u001b[1;32m      6\u001b[0m \u001b[0;34m\u001b[0m\u001b[0m\n\u001b[0;32m----> 7\u001b[0;31m     \u001b[0mpd\u001b[0m\u001b[0;34m.\u001b[0m\u001b[0marrays\u001b[0m\u001b[0;34m.\u001b[0m\u001b[0mDatetimeArray\u001b[0m\u001b[0;34m(\u001b[0m\u001b[0minterval_start\u001b[0m\u001b[0;34m)\u001b[0m\u001b[0;34m\u001b[0m\u001b[0;34m\u001b[0m\u001b[0m\n\u001b[0m\u001b[1;32m      8\u001b[0m \u001b[0;34m\u001b[0m\u001b[0m\n\u001b[1;32m      9\u001b[0m     \u001b[0;32mbreak\u001b[0m\u001b[0;34m\u001b[0m\u001b[0;34m\u001b[0m\u001b[0m\n",
      "\u001b[0;32m~/anaconda3/envs/onos/lib/python3.8/site-packages/pandas/core/arrays/datetimes.py\u001b[0m in \u001b[0;36m__init__\u001b[0;34m(self, values, dtype, freq, copy)\u001b[0m\n\u001b[1;32m    239\u001b[0m                 \u001b[0;34m\"a DatetimeArray ndarray, or Series or Index containing one of those.\"\u001b[0m\u001b[0;34m\u001b[0m\u001b[0;34m\u001b[0m\u001b[0m\n\u001b[1;32m    240\u001b[0m             )\n\u001b[0;32m--> 241\u001b[0;31m             \u001b[0;32mraise\u001b[0m \u001b[0mValueError\u001b[0m\u001b[0;34m(\u001b[0m\u001b[0mmsg\u001b[0m\u001b[0;34m)\u001b[0m\u001b[0;34m\u001b[0m\u001b[0;34m\u001b[0m\u001b[0m\n\u001b[0m\u001b[1;32m    242\u001b[0m         \u001b[0;32mif\u001b[0m \u001b[0mvalues\u001b[0m\u001b[0;34m.\u001b[0m\u001b[0mndim\u001b[0m \u001b[0;32mnot\u001b[0m \u001b[0;32min\u001b[0m \u001b[0;34m[\u001b[0m\u001b[0;36m1\u001b[0m\u001b[0;34m,\u001b[0m \u001b[0;36m2\u001b[0m\u001b[0;34m]\u001b[0m\u001b[0;34m:\u001b[0m\u001b[0;34m\u001b[0m\u001b[0;34m\u001b[0m\u001b[0m\n\u001b[1;32m    243\u001b[0m             \u001b[0;32mraise\u001b[0m \u001b[0mValueError\u001b[0m\u001b[0;34m(\u001b[0m\u001b[0;34m\"Only 1-dimensional input arrays are supported.\"\u001b[0m\u001b[0;34m)\u001b[0m\u001b[0;34m\u001b[0m\u001b[0;34m\u001b[0m\u001b[0m\n",
      "\u001b[0;31mValueError\u001b[0m: Unexpected type 'datetime'. 'values' must be a DatetimeArray ndarray, or Series or Index containing one of those."
     ]
    }
   ],
   "source": [
    "for i in range(len(ranges)-1):\n",
    "    interval_start, interval_end = ranges[i], ranges[i+1]\n",
    "    \n",
    "    interval_start = interval_start.to_pydatetime()\n",
    "    interval_end = interval_end.to_pydatetime()\n",
    "    \n",
    "    pd.arrays.DatetimeArray(interval_start)\n",
    "    \n",
    "    break\n",
    "    \n",
    "    \n",
    "interval_start    \n",
    "    \n",
    "# interval_df = df[df.start_time <= interval_end & df.end_time >= interval_start]    "
   ]
  }
 ],
 "metadata": {
  "kernelspec": {
   "display_name": "Python 3",
   "language": "python",
   "name": "python3"
  },
  "language_info": {
   "codemirror_mode": {
    "name": "ipython",
    "version": 3
   },
   "file_extension": ".py",
   "mimetype": "text/x-python",
   "name": "python",
   "nbconvert_exporter": "python",
   "pygments_lexer": "ipython3",
   "version": "3.8.2"
  }
 },
 "nbformat": 4,
 "nbformat_minor": 4
}
