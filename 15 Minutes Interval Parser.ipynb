{
 "cells": [
  {
   "cell_type": "markdown",
   "metadata": {},
   "source": [
    "## Preprocess data into 15 intervals"
   ]
  },
  {
   "cell_type": "markdown",
   "metadata": {},
   "source": [
    "## Imports"
   ]
  },
  {
   "cell_type": "code",
   "execution_count": 1,
   "metadata": {},
   "outputs": [],
   "source": [
    "from __future__ import absolute_import, division, print_function, unicode_literals\n",
    "import functools\n",
    "from IPython.display import Image\n",
    "import pandas as pd\n",
    "import numpy as np\n",
    "import seaborn as sns\n",
    "import matplotlib.pyplot as plt\n",
    "import glob\n",
    "\n",
    "from os.path import join\n",
    "\n",
    "from processing_helper import extract_data\n",
    "\n",
    "\n",
    "%matplotlib inline\n",
    "pd.set_option(\"display.precision\", 2)"
   ]
  },
  {
   "cell_type": "code",
   "execution_count": 2,
   "metadata": {},
   "outputs": [
    {
     "data": {
      "text/plain": [
       "'data/historia_przejazdow_2019-03.csv'"
      ]
     },
     "execution_count": 2,
     "metadata": {},
     "output_type": "execute_result"
    }
   ],
   "source": [
    "PATH = join(\"data\", \"historia_przejazdow_2019-03.csv\")\n",
    "PATH"
   ]
  },
  {
   "cell_type": "code",
   "execution_count": 3,
   "metadata": {},
   "outputs": [
    {
     "data": {
      "text/html": [
       "<div>\n",
       "<style scoped>\n",
       "    .dataframe tbody tr th:only-of-type {\n",
       "        vertical-align: middle;\n",
       "    }\n",
       "\n",
       "    .dataframe tbody tr th {\n",
       "        vertical-align: top;\n",
       "    }\n",
       "\n",
       "    .dataframe thead th {\n",
       "        text-align: right;\n",
       "    }\n",
       "</style>\n",
       "<table border=\"1\" class=\"dataframe\">\n",
       "  <thead>\n",
       "    <tr style=\"text-align: right;\">\n",
       "      <th></th>\n",
       "      <th>uid</th>\n",
       "      <th>bike_number</th>\n",
       "      <th>start_time</th>\n",
       "      <th>end_time</th>\n",
       "      <th>rental_place</th>\n",
       "      <th>return_place</th>\n",
       "    </tr>\n",
       "  </thead>\n",
       "  <tbody>\n",
       "    <tr>\n",
       "      <th>0</th>\n",
       "      <td>64961590</td>\n",
       "      <td>57006</td>\n",
       "      <td>2019-03-01 14:29:06</td>\n",
       "      <td>2019-03-01 14:29:44</td>\n",
       "      <td>Poza stacją</td>\n",
       "      <td>Poza stacją</td>\n",
       "    </tr>\n",
       "    <tr>\n",
       "      <th>1</th>\n",
       "      <td>64961652</td>\n",
       "      <td>57006</td>\n",
       "      <td>2019-03-01 14:30:16</td>\n",
       "      <td>2019-03-01 14:33:00</td>\n",
       "      <td>Poza stacją</td>\n",
       "      <td>Poza stacją</td>\n",
       "    </tr>\n",
       "    <tr>\n",
       "      <th>2</th>\n",
       "      <td>64963262</td>\n",
       "      <td>57006</td>\n",
       "      <td>2019-03-01 15:03:42</td>\n",
       "      <td>2019-03-01 15:08:55</td>\n",
       "      <td>Poza stacją</td>\n",
       "      <td>Poza stacją</td>\n",
       "    </tr>\n",
       "    <tr>\n",
       "      <th>3</th>\n",
       "      <td>64719784</td>\n",
       "      <td>72558</td>\n",
       "      <td>2019-02-20 12:15:34</td>\n",
       "      <td>2019-03-03 01:39:33</td>\n",
       "      <td>Poza stacją</td>\n",
       "      <td>Poza stacją</td>\n",
       "    </tr>\n",
       "    <tr>\n",
       "      <th>4</th>\n",
       "      <td>65041465</td>\n",
       "      <td>57006</td>\n",
       "      <td>2019-03-04 06:16:44</td>\n",
       "      <td>2019-03-04 06:18:10</td>\n",
       "      <td>Poza stacją</td>\n",
       "      <td>Poza stacją</td>\n",
       "    </tr>\n",
       "  </tbody>\n",
       "</table>\n",
       "</div>"
      ],
      "text/plain": [
       "        uid  bike_number           start_time             end_time  \\\n",
       "0  64961590        57006  2019-03-01 14:29:06  2019-03-01 14:29:44   \n",
       "1  64961652        57006  2019-03-01 14:30:16  2019-03-01 14:33:00   \n",
       "2  64963262        57006  2019-03-01 15:03:42  2019-03-01 15:08:55   \n",
       "3  64719784        72558  2019-02-20 12:15:34  2019-03-03 01:39:33   \n",
       "4  65041465        57006  2019-03-04 06:16:44  2019-03-04 06:18:10   \n",
       "\n",
       "  rental_place return_place  \n",
       "0  Poza stacją  Poza stacją  \n",
       "1  Poza stacją  Poza stacją  \n",
       "2  Poza stacją  Poza stacją  \n",
       "3  Poza stacją  Poza stacją  \n",
       "4  Poza stacją  Poza stacją  "
      ]
     },
     "execution_count": 3,
     "metadata": {},
     "output_type": "execute_result"
    }
   ],
   "source": [
    "df = pd.read_csv(PATH, index_col=0, parse_dates=True)\n",
    "\n",
    "df.head()"
   ]
  },
  {
   "cell_type": "code",
   "execution_count": 4,
   "metadata": {},
   "outputs": [
    {
     "data": {
      "text/html": [
       "<div>\n",
       "<style scoped>\n",
       "    .dataframe tbody tr th:only-of-type {\n",
       "        vertical-align: middle;\n",
       "    }\n",
       "\n",
       "    .dataframe tbody tr th {\n",
       "        vertical-align: top;\n",
       "    }\n",
       "\n",
       "    .dataframe thead th {\n",
       "        text-align: right;\n",
       "    }\n",
       "</style>\n",
       "<table border=\"1\" class=\"dataframe\">\n",
       "  <thead>\n",
       "    <tr style=\"text-align: right;\">\n",
       "      <th></th>\n",
       "      <th>uid</th>\n",
       "      <th>bike_number</th>\n",
       "      <th>start_time</th>\n",
       "      <th>end_time</th>\n",
       "      <th>rental_place</th>\n",
       "      <th>return_place</th>\n",
       "    </tr>\n",
       "  </thead>\n",
       "  <tbody>\n",
       "    <tr>\n",
       "      <th>0</th>\n",
       "      <td>64961590</td>\n",
       "      <td>57006</td>\n",
       "      <td>2019-03-01 14:29:06</td>\n",
       "      <td>2019-03-01 14:29:44</td>\n",
       "      <td>Poza stacją</td>\n",
       "      <td>Poza stacją</td>\n",
       "    </tr>\n",
       "    <tr>\n",
       "      <th>1</th>\n",
       "      <td>64961652</td>\n",
       "      <td>57006</td>\n",
       "      <td>2019-03-01 14:30:16</td>\n",
       "      <td>2019-03-01 14:33:00</td>\n",
       "      <td>Poza stacją</td>\n",
       "      <td>Poza stacją</td>\n",
       "    </tr>\n",
       "    <tr>\n",
       "      <th>2</th>\n",
       "      <td>64963262</td>\n",
       "      <td>57006</td>\n",
       "      <td>2019-03-01 15:03:42</td>\n",
       "      <td>2019-03-01 15:08:55</td>\n",
       "      <td>Poza stacją</td>\n",
       "      <td>Poza stacją</td>\n",
       "    </tr>\n",
       "    <tr>\n",
       "      <th>3</th>\n",
       "      <td>64719784</td>\n",
       "      <td>72558</td>\n",
       "      <td>2019-02-20 12:15:34</td>\n",
       "      <td>2019-03-03 01:39:33</td>\n",
       "      <td>Poza stacją</td>\n",
       "      <td>Poza stacją</td>\n",
       "    </tr>\n",
       "    <tr>\n",
       "      <th>4</th>\n",
       "      <td>65041465</td>\n",
       "      <td>57006</td>\n",
       "      <td>2019-03-04 06:16:44</td>\n",
       "      <td>2019-03-04 06:18:10</td>\n",
       "      <td>Poza stacją</td>\n",
       "      <td>Poza stacją</td>\n",
       "    </tr>\n",
       "  </tbody>\n",
       "</table>\n",
       "</div>"
      ],
      "text/plain": [
       "        uid  bike_number          start_time            end_time rental_place  \\\n",
       "0  64961590        57006 2019-03-01 14:29:06 2019-03-01 14:29:44  Poza stacją   \n",
       "1  64961652        57006 2019-03-01 14:30:16 2019-03-01 14:33:00  Poza stacją   \n",
       "2  64963262        57006 2019-03-01 15:03:42 2019-03-01 15:08:55  Poza stacją   \n",
       "3  64719784        72558 2019-02-20 12:15:34 2019-03-03 01:39:33  Poza stacją   \n",
       "4  65041465        57006 2019-03-04 06:16:44 2019-03-04 06:18:10  Poza stacją   \n",
       "\n",
       "  return_place  \n",
       "0  Poza stacją  \n",
       "1  Poza stacją  \n",
       "2  Poza stacją  \n",
       "3  Poza stacją  \n",
       "4  Poza stacją  "
      ]
     },
     "execution_count": 4,
     "metadata": {},
     "output_type": "execute_result"
    }
   ],
   "source": [
    "df['start_time']= pd.to_datetime(df['start_time']) \n",
    "df['end_time']= pd.to_datetime(df['end_time'])\n",
    "df.head()"
   ]
  },
  {
   "cell_type": "markdown",
   "metadata": {},
   "source": [
    "## Divide in intervals"
   ]
  },
  {
   "cell_type": "markdown",
   "metadata": {},
   "source": [
    "### Earliest rental "
   ]
  },
  {
   "cell_type": "code",
   "execution_count": 5,
   "metadata": {},
   "outputs": [
    {
     "data": {
      "text/plain": [
       "Timestamp('2019-02-20 00:00:00')"
      ]
     },
     "execution_count": 5,
     "metadata": {},
     "output_type": "execute_result"
    }
   ],
   "source": [
    "start = df.start_time.min()\n",
    "start = start.replace(hour=0, minute=0, second=0)\n",
    "start"
   ]
  },
  {
   "cell_type": "markdown",
   "metadata": {},
   "source": [
    "### Latest return"
   ]
  },
  {
   "cell_type": "code",
   "execution_count": 6,
   "metadata": {},
   "outputs": [
    {
     "data": {
      "text/plain": [
       "Timestamp('2019-04-01 00:00:00')"
      ]
     },
     "execution_count": 6,
     "metadata": {},
     "output_type": "execute_result"
    }
   ],
   "source": [
    "end = df.end_time.max()\n",
    "end = end.replace(hour=0, minute=0, second=0)\n",
    "end"
   ]
  },
  {
   "cell_type": "code",
   "execution_count": 7,
   "metadata": {},
   "outputs": [
    {
     "data": {
      "text/plain": [
       "DatetimeIndex(['2019-02-20 00:00:00', '2019-02-20 00:15:00',\n",
       "               '2019-02-20 00:30:00', '2019-02-20 00:45:00',\n",
       "               '2019-02-20 01:00:00', '2019-02-20 01:15:00',\n",
       "               '2019-02-20 01:30:00', '2019-02-20 01:45:00',\n",
       "               '2019-02-20 02:00:00', '2019-02-20 02:15:00',\n",
       "               ...\n",
       "               '2019-03-31 21:45:00', '2019-03-31 22:00:00',\n",
       "               '2019-03-31 22:15:00', '2019-03-31 22:30:00',\n",
       "               '2019-03-31 22:45:00', '2019-03-31 23:00:00',\n",
       "               '2019-03-31 23:15:00', '2019-03-31 23:30:00',\n",
       "               '2019-03-31 23:45:00', '2019-04-01 00:00:00'],\n",
       "              dtype='datetime64[ns]', length=3841, freq='15T')"
      ]
     },
     "execution_count": 7,
     "metadata": {},
     "output_type": "execute_result"
    }
   ],
   "source": [
    "ranges = pd.date_range(start, end,freq='15T')\n",
    "ranges"
   ]
  },
  {
   "cell_type": "code",
   "execution_count": 8,
   "metadata": {},
   "outputs": [
    {
     "data": {
      "text/html": [
       "<div>\n",
       "<style scoped>\n",
       "    .dataframe tbody tr th:only-of-type {\n",
       "        vertical-align: middle;\n",
       "    }\n",
       "\n",
       "    .dataframe tbody tr th {\n",
       "        vertical-align: top;\n",
       "    }\n",
       "\n",
       "    .dataframe thead th {\n",
       "        text-align: right;\n",
       "    }\n",
       "</style>\n",
       "<table border=\"1\" class=\"dataframe\">\n",
       "  <thead>\n",
       "    <tr style=\"text-align: right;\">\n",
       "      <th></th>\n",
       "      <th>interval_start</th>\n",
       "      <th>interval_end</th>\n",
       "      <th>rental_place</th>\n",
       "      <th>return_place</th>\n",
       "    </tr>\n",
       "  </thead>\n",
       "  <tbody>\n",
       "  </tbody>\n",
       "</table>\n",
       "</div>"
      ],
      "text/plain": [
       "Empty DataFrame\n",
       "Columns: [interval_start, interval_end, rental_place, return_place]\n",
       "Index: []"
      ]
     },
     "execution_count": 8,
     "metadata": {},
     "output_type": "execute_result"
    }
   ],
   "source": [
    "all_trips_in_all_intervals_df  = pd.DataFrame(columns=[\"interval_start\", \"interval_end\", \"rental_place\", \"return_place\"])\n",
    "all_trips_in_all_intervals_df   "
   ]
  },
  {
   "cell_type": "code",
   "execution_count": 9,
   "metadata": {},
   "outputs": [
    {
     "name": "stderr",
     "output_type": "stream",
     "text": [
      "<ipython-input-9-a70ccd99ed5b>:7: SettingWithCopyWarning: \n",
      "A value is trying to be set on a copy of a slice from a DataFrame.\n",
      "Try using .loc[row_indexer,col_indexer] = value instead\n",
      "\n",
      "See the caveats in the documentation: https://pandas.pydata.org/pandas-docs/stable/user_guide/indexing.html#returning-a-view-versus-a-copy\n",
      "  interval_df[\"interval_start\"] = interval_start\n",
      "<ipython-input-9-a70ccd99ed5b>:8: SettingWithCopyWarning: \n",
      "A value is trying to be set on a copy of a slice from a DataFrame.\n",
      "Try using .loc[row_indexer,col_indexer] = value instead\n",
      "\n",
      "See the caveats in the documentation: https://pandas.pydata.org/pandas-docs/stable/user_guide/indexing.html#returning-a-view-versus-a-copy\n",
      "  interval_df[\"interval_end\"] = interval_end\n"
     ]
    }
   ],
   "source": [
    "for i in range(len(ranges)-1):\n",
    "    interval_start, interval_end = ranges[i],ranges[i+1]\n",
    "    \n",
    "    interval_df = df[(df.start_time <= interval_end) & (df.end_time >= interval_start)]    \n",
    "    \n",
    "    \n",
    "    interval_df[\"interval_start\"] = interval_start\n",
    "    interval_df[\"interval_end\"] = interval_end\n",
    "    \n",
    "    all_trips_in_all_intervals_df = all_trips_in_all_intervals_df.append(interval_df[[\"interval_start\", \"interval_end\", \"rental_place\", \"return_place\"]])"
   ]
  },
  {
   "cell_type": "code",
   "execution_count": 10,
   "metadata": {},
   "outputs": [
    {
     "data": {
      "text/html": [
       "<div>\n",
       "<style scoped>\n",
       "    .dataframe tbody tr th:only-of-type {\n",
       "        vertical-align: middle;\n",
       "    }\n",
       "\n",
       "    .dataframe tbody tr th {\n",
       "        vertical-align: top;\n",
       "    }\n",
       "\n",
       "    .dataframe thead th {\n",
       "        text-align: right;\n",
       "    }\n",
       "</style>\n",
       "<table border=\"1\" class=\"dataframe\">\n",
       "  <thead>\n",
       "    <tr style=\"text-align: right;\">\n",
       "      <th></th>\n",
       "      <th>interval_start</th>\n",
       "      <th>interval_end</th>\n",
       "      <th>rental_place</th>\n",
       "      <th>return_place</th>\n",
       "    </tr>\n",
       "  </thead>\n",
       "  <tbody>\n",
       "    <tr>\n",
       "      <th>3</th>\n",
       "      <td>2019-02-20 12:15:00</td>\n",
       "      <td>2019-02-20 12:30:00</td>\n",
       "      <td>Poza stacją</td>\n",
       "      <td>Poza stacją</td>\n",
       "    </tr>\n",
       "    <tr>\n",
       "      <th>3</th>\n",
       "      <td>2019-02-20 12:30:00</td>\n",
       "      <td>2019-02-20 12:45:00</td>\n",
       "      <td>Poza stacją</td>\n",
       "      <td>Poza stacją</td>\n",
       "    </tr>\n",
       "    <tr>\n",
       "      <th>3</th>\n",
       "      <td>2019-02-20 12:45:00</td>\n",
       "      <td>2019-02-20 13:00:00</td>\n",
       "      <td>Poza stacją</td>\n",
       "      <td>Poza stacją</td>\n",
       "    </tr>\n",
       "    <tr>\n",
       "      <th>3</th>\n",
       "      <td>2019-02-20 13:00:00</td>\n",
       "      <td>2019-02-20 13:15:00</td>\n",
       "      <td>Poza stacją</td>\n",
       "      <td>Poza stacją</td>\n",
       "    </tr>\n",
       "    <tr>\n",
       "      <th>3</th>\n",
       "      <td>2019-02-20 13:15:00</td>\n",
       "      <td>2019-02-20 13:30:00</td>\n",
       "      <td>Poza stacją</td>\n",
       "      <td>Poza stacją</td>\n",
       "    </tr>\n",
       "    <tr>\n",
       "      <th>...</th>\n",
       "      <td>...</td>\n",
       "      <td>...</td>\n",
       "      <td>...</td>\n",
       "      <td>...</td>\n",
       "    </tr>\n",
       "    <tr>\n",
       "      <th>44360</th>\n",
       "      <td>2019-03-31 23:45:00</td>\n",
       "      <td>2019-04-01 00:00:00</td>\n",
       "      <td>Aleja Hallera / Mielecka</td>\n",
       "      <td>Grabiszyńska / Aleja Hallera</td>\n",
       "    </tr>\n",
       "    <tr>\n",
       "      <th>44361</th>\n",
       "      <td>2019-03-31 23:45:00</td>\n",
       "      <td>2019-04-01 00:00:00</td>\n",
       "      <td>Plac Powstańców Warszawy (Muzeum Narodowe)</td>\n",
       "      <td>Szczęśliwa (Sky Tower)</td>\n",
       "    </tr>\n",
       "    <tr>\n",
       "      <th>44362</th>\n",
       "      <td>2019-03-31 23:45:00</td>\n",
       "      <td>2019-04-01 00:00:00</td>\n",
       "      <td>Plac Powstańców Warszawy (Muzeum Narodowe)</td>\n",
       "      <td>Szczęśliwa (Sky Tower)</td>\n",
       "    </tr>\n",
       "    <tr>\n",
       "      <th>44372</th>\n",
       "      <td>2019-03-31 23:45:00</td>\n",
       "      <td>2019-04-01 00:00:00</td>\n",
       "      <td>Poza stacją</td>\n",
       "      <td>Plac Grunwaldzki / Polaka</td>\n",
       "    </tr>\n",
       "    <tr>\n",
       "      <th>44373</th>\n",
       "      <td>2019-03-31 23:45:00</td>\n",
       "      <td>2019-04-01 00:00:00</td>\n",
       "      <td>Plac Dominikański (Galeria Dominikańska)</td>\n",
       "      <td>Plac Dominikański (Galeria Dominikańska)</td>\n",
       "    </tr>\n",
       "  </tbody>\n",
       "</table>\n",
       "<p>355037 rows × 4 columns</p>\n",
       "</div>"
      ],
      "text/plain": [
       "           interval_start        interval_end  \\\n",
       "3     2019-02-20 12:15:00 2019-02-20 12:30:00   \n",
       "3     2019-02-20 12:30:00 2019-02-20 12:45:00   \n",
       "3     2019-02-20 12:45:00 2019-02-20 13:00:00   \n",
       "3     2019-02-20 13:00:00 2019-02-20 13:15:00   \n",
       "3     2019-02-20 13:15:00 2019-02-20 13:30:00   \n",
       "...                   ...                 ...   \n",
       "44360 2019-03-31 23:45:00 2019-04-01 00:00:00   \n",
       "44361 2019-03-31 23:45:00 2019-04-01 00:00:00   \n",
       "44362 2019-03-31 23:45:00 2019-04-01 00:00:00   \n",
       "44372 2019-03-31 23:45:00 2019-04-01 00:00:00   \n",
       "44373 2019-03-31 23:45:00 2019-04-01 00:00:00   \n",
       "\n",
       "                                     rental_place  \\\n",
       "3                                     Poza stacją   \n",
       "3                                     Poza stacją   \n",
       "3                                     Poza stacją   \n",
       "3                                     Poza stacją   \n",
       "3                                     Poza stacją   \n",
       "...                                           ...   \n",
       "44360                    Aleja Hallera / Mielecka   \n",
       "44361  Plac Powstańców Warszawy (Muzeum Narodowe)   \n",
       "44362  Plac Powstańców Warszawy (Muzeum Narodowe)   \n",
       "44372                                 Poza stacją   \n",
       "44373    Plac Dominikański (Galeria Dominikańska)   \n",
       "\n",
       "                                   return_place  \n",
       "3                                   Poza stacją  \n",
       "3                                   Poza stacją  \n",
       "3                                   Poza stacją  \n",
       "3                                   Poza stacją  \n",
       "3                                   Poza stacją  \n",
       "...                                         ...  \n",
       "44360              Grabiszyńska / Aleja Hallera  \n",
       "44361                    Szczęśliwa (Sky Tower)  \n",
       "44362                    Szczęśliwa (Sky Tower)  \n",
       "44372                 Plac Grunwaldzki / Polaka  \n",
       "44373  Plac Dominikański (Galeria Dominikańska)  \n",
       "\n",
       "[355037 rows x 4 columns]"
      ]
     },
     "execution_count": 10,
     "metadata": {},
     "output_type": "execute_result"
    }
   ],
   "source": [
    "all_trips_in_all_intervals_df"
   ]
  },
  {
   "cell_type": "markdown",
   "metadata": {},
   "source": [
    "## Group by rentsl/return place"
   ]
  },
  {
   "cell_type": "code",
   "execution_count": 11,
   "metadata": {},
   "outputs": [
    {
     "data": {
      "text/html": [
       "<div>\n",
       "<style scoped>\n",
       "    .dataframe tbody tr th:only-of-type {\n",
       "        vertical-align: middle;\n",
       "    }\n",
       "\n",
       "    .dataframe tbody tr th {\n",
       "        vertical-align: top;\n",
       "    }\n",
       "\n",
       "    .dataframe thead th {\n",
       "        text-align: right;\n",
       "    }\n",
       "</style>\n",
       "<table border=\"1\" class=\"dataframe\">\n",
       "  <thead>\n",
       "    <tr style=\"text-align: right;\">\n",
       "      <th></th>\n",
       "      <th>interval_start</th>\n",
       "      <th>interval_end</th>\n",
       "      <th>number_of_trips</th>\n",
       "      <th>rental_place</th>\n",
       "      <th>return_place</th>\n",
       "    </tr>\n",
       "  </thead>\n",
       "  <tbody>\n",
       "  </tbody>\n",
       "</table>\n",
       "</div>"
      ],
      "text/plain": [
       "Empty DataFrame\n",
       "Columns: [interval_start, interval_end, number_of_trips, rental_place, return_place]\n",
       "Index: []"
      ]
     },
     "execution_count": 11,
     "metadata": {},
     "output_type": "execute_result"
    }
   ],
   "source": [
    "intervals_grouped_df = pd.DataFrame(columns=[\"interval_start\", \"interval_end\", \"number_of_trips\", \"rental_place\", \"return_place\"])\n",
    "\n",
    "intervals_grouped_df"
   ]
  },
  {
   "cell_type": "code",
   "execution_count": 16,
   "metadata": {},
   "outputs": [],
   "source": [
    "for i in range(len(ranges)-1):\n",
    "    interval_start, interval_end = ranges[i],ranges[i+1]\n",
    "    \n",
    "    interval_group_df = (all_trips_in_all_intervals_df[all_trips_in_all_intervals_df[\"interval_start\"] == interval_start]).groupby(['rental_place', 'return_place'], as_index=False).count()\n",
    "\n",
    "    interval_group_df = interval_group_df.rename(columns={\"interval_start\": \"number_of_trips\"})\n",
    "\n",
    "    interval_group_df[\"interval_start\"] = interval_start\n",
    "    interval_group_df[\"interval_end\"] = interval_end\n",
    "    \n",
    "    intervals_grouped_df = intervals_grouped_df.append(interval_group_df)"
   ]
  },
  {
   "cell_type": "code",
   "execution_count": 21,
   "metadata": {},
   "outputs": [
    {
     "data": {
      "text/html": [
       "<div>\n",
       "<style scoped>\n",
       "    .dataframe tbody tr th:only-of-type {\n",
       "        vertical-align: middle;\n",
       "    }\n",
       "\n",
       "    .dataframe tbody tr th {\n",
       "        vertical-align: top;\n",
       "    }\n",
       "\n",
       "    .dataframe thead th {\n",
       "        text-align: right;\n",
       "    }\n",
       "</style>\n",
       "<table border=\"1\" class=\"dataframe\">\n",
       "  <thead>\n",
       "    <tr style=\"text-align: right;\">\n",
       "      <th></th>\n",
       "      <th>interval_start</th>\n",
       "      <th>interval_end</th>\n",
       "      <th>number_of_trips</th>\n",
       "      <th>rental_place</th>\n",
       "      <th>return_place</th>\n",
       "    </tr>\n",
       "  </thead>\n",
       "  <tbody>\n",
       "    <tr>\n",
       "      <th>0</th>\n",
       "      <td>2019-02-20 12:15:00</td>\n",
       "      <td>2019-02-20 12:30:00</td>\n",
       "      <td>1</td>\n",
       "      <td>Poza stacją</td>\n",
       "      <td>Poza stacją</td>\n",
       "    </tr>\n",
       "    <tr>\n",
       "      <th>0</th>\n",
       "      <td>2019-02-20 12:30:00</td>\n",
       "      <td>2019-02-20 12:45:00</td>\n",
       "      <td>1</td>\n",
       "      <td>Poza stacją</td>\n",
       "      <td>Poza stacją</td>\n",
       "    </tr>\n",
       "    <tr>\n",
       "      <th>0</th>\n",
       "      <td>2019-02-20 12:45:00</td>\n",
       "      <td>2019-02-20 13:00:00</td>\n",
       "      <td>1</td>\n",
       "      <td>Poza stacją</td>\n",
       "      <td>Poza stacją</td>\n",
       "    </tr>\n",
       "    <tr>\n",
       "      <th>0</th>\n",
       "      <td>2019-02-20 13:00:00</td>\n",
       "      <td>2019-02-20 13:15:00</td>\n",
       "      <td>1</td>\n",
       "      <td>Poza stacją</td>\n",
       "      <td>Poza stacją</td>\n",
       "    </tr>\n",
       "    <tr>\n",
       "      <th>0</th>\n",
       "      <td>2019-02-20 13:15:00</td>\n",
       "      <td>2019-02-20 13:30:00</td>\n",
       "      <td>1</td>\n",
       "      <td>Poza stacją</td>\n",
       "      <td>Poza stacją</td>\n",
       "    </tr>\n",
       "    <tr>\n",
       "      <th>...</th>\n",
       "      <td>...</td>\n",
       "      <td>...</td>\n",
       "      <td>...</td>\n",
       "      <td>...</td>\n",
       "      <td>...</td>\n",
       "    </tr>\n",
       "    <tr>\n",
       "      <th>19</th>\n",
       "      <td>2019-03-31 23:45:00</td>\n",
       "      <td>2019-04-01 00:00:00</td>\n",
       "      <td>1</td>\n",
       "      <td>Wróblewskiego (Teki)</td>\n",
       "      <td>Wróblewskiego (Teki)</td>\n",
       "    </tr>\n",
       "    <tr>\n",
       "      <th>20</th>\n",
       "      <td>2019-03-31 23:45:00</td>\n",
       "      <td>2019-04-01 00:00:00</td>\n",
       "      <td>1</td>\n",
       "      <td>Wróblewskiego (ZOO)</td>\n",
       "      <td>Poza stacją</td>\n",
       "    </tr>\n",
       "    <tr>\n",
       "      <th>21</th>\n",
       "      <td>2019-03-31 23:45:00</td>\n",
       "      <td>2019-04-01 00:00:00</td>\n",
       "      <td>1</td>\n",
       "      <td>Wyszyńskiego / Szczytnicka</td>\n",
       "      <td>Nowowiejska / Górnickiego</td>\n",
       "    </tr>\n",
       "    <tr>\n",
       "      <th>22</th>\n",
       "      <td>2019-03-31 23:45:00</td>\n",
       "      <td>2019-04-01 00:00:00</td>\n",
       "      <td>1</td>\n",
       "      <td>Wyszyńskiego / Szczytnicka</td>\n",
       "      <td>Sienkiewicza / Wyszyńskiego</td>\n",
       "    </tr>\n",
       "    <tr>\n",
       "      <th>23</th>\n",
       "      <td>2019-03-31 23:45:00</td>\n",
       "      <td>2019-04-01 00:00:00</td>\n",
       "      <td>1</td>\n",
       "      <td>Zachodnia / Poznańska</td>\n",
       "      <td>Plac Świętego Macieja / Trzebnicka</td>\n",
       "    </tr>\n",
       "  </tbody>\n",
       "</table>\n",
       "<p>83831 rows × 5 columns</p>\n",
       "</div>"
      ],
      "text/plain": [
       "        interval_start        interval_end number_of_trips  \\\n",
       "0  2019-02-20 12:15:00 2019-02-20 12:30:00               1   \n",
       "0  2019-02-20 12:30:00 2019-02-20 12:45:00               1   \n",
       "0  2019-02-20 12:45:00 2019-02-20 13:00:00               1   \n",
       "0  2019-02-20 13:00:00 2019-02-20 13:15:00               1   \n",
       "0  2019-02-20 13:15:00 2019-02-20 13:30:00               1   \n",
       "..                 ...                 ...             ...   \n",
       "19 2019-03-31 23:45:00 2019-04-01 00:00:00               1   \n",
       "20 2019-03-31 23:45:00 2019-04-01 00:00:00               1   \n",
       "21 2019-03-31 23:45:00 2019-04-01 00:00:00               1   \n",
       "22 2019-03-31 23:45:00 2019-04-01 00:00:00               1   \n",
       "23 2019-03-31 23:45:00 2019-04-01 00:00:00               1   \n",
       "\n",
       "                  rental_place                        return_place  \n",
       "0                  Poza stacją                         Poza stacją  \n",
       "0                  Poza stacją                         Poza stacją  \n",
       "0                  Poza stacją                         Poza stacją  \n",
       "0                  Poza stacją                         Poza stacją  \n",
       "0                  Poza stacją                         Poza stacją  \n",
       "..                         ...                                 ...  \n",
       "19        Wróblewskiego (Teki)                Wróblewskiego (Teki)  \n",
       "20         Wróblewskiego (ZOO)                         Poza stacją  \n",
       "21  Wyszyńskiego / Szczytnicka           Nowowiejska / Górnickiego  \n",
       "22  Wyszyńskiego / Szczytnicka         Sienkiewicza / Wyszyńskiego  \n",
       "23       Zachodnia / Poznańska  Plac Świętego Macieja / Trzebnicka  \n",
       "\n",
       "[83831 rows x 5 columns]"
      ]
     },
     "execution_count": 21,
     "metadata": {},
     "output_type": "execute_result"
    }
   ],
   "source": [
    "intervals_grouped_df"
   ]
  },
  {
   "cell_type": "markdown",
   "metadata": {},
   "source": [
    "## Save to CSV"
   ]
  },
  {
   "cell_type": "code",
   "execution_count": 22,
   "metadata": {},
   "outputs": [],
   "source": [
    "intervals_grouped_df.to_csv(join(\"plik.csv\"), index=False)"
   ]
  },
  {
   "cell_type": "code",
   "execution_count": null,
   "metadata": {},
   "outputs": [],
   "source": []
  },
  {
   "cell_type": "code",
   "execution_count": null,
   "metadata": {},
   "outputs": [],
   "source": []
  }
 ],
 "metadata": {
  "kernelspec": {
   "display_name": "Python 3",
   "language": "python",
   "name": "python3"
  },
  "language_info": {
   "codemirror_mode": {
    "name": "ipython",
    "version": 3
   },
   "file_extension": ".py",
   "mimetype": "text/x-python",
   "name": "python",
   "nbconvert_exporter": "python",
   "pygments_lexer": "ipython3",
   "version": "3.8.2"
  }
 },
 "nbformat": 4,
 "nbformat_minor": 4
}
