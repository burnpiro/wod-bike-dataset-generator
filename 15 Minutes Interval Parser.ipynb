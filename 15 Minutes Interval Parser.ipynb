{
 "cells": [
  {
   "cell_type": "markdown",
   "metadata": {},
   "source": [
    "## Preprocess data into 15 intervals"
   ]
  },
  {
   "cell_type": "markdown",
   "metadata": {},
   "source": [
    "## Imports"
   ]
  },
  {
   "cell_type": "code",
   "execution_count": 1,
   "metadata": {},
   "outputs": [],
   "source": [
    "import pandas as pd\n",
    "from os.path import join\n",
    "import datetime\n",
    "\n",
    "%matplotlib inline\n",
    "pd.set_option(\"display.precision\", 2)"
   ]
  },
  {
   "cell_type": "code",
   "execution_count": 16,
   "metadata": {},
   "outputs": [
    {
     "data": {
      "text/plain": [
       "'data_preprocessed\\\\historia_przejazdow_2019-03.csv_preprocessed.csv'"
      ]
     },
     "execution_count": 16,
     "metadata": {},
     "output_type": "execute_result"
    }
   ],
   "source": [
    "PATH = join(\"data_preprocessed\", \"historia_przejazdow_2019-03.csv_preprocessed.csv\")\n",
    "PATH"
   ]
  },
  {
   "cell_type": "code",
   "execution_count": 17,
   "metadata": {},
   "outputs": [
    {
     "data": {
      "text/html": [
       "<div>\n",
       "<style scoped>\n",
       "    .dataframe tbody tr th:only-of-type {\n",
       "        vertical-align: middle;\n",
       "    }\n",
       "\n",
       "    .dataframe tbody tr th {\n",
       "        vertical-align: top;\n",
       "    }\n",
       "\n",
       "    .dataframe thead th {\n",
       "        text-align: right;\n",
       "    }\n",
       "</style>\n",
       "<table border=\"1\" class=\"dataframe\">\n",
       "  <thead>\n",
       "    <tr style=\"text-align: right;\">\n",
       "      <th></th>\n",
       "      <th>start_time</th>\n",
       "      <th>end_time</th>\n",
       "      <th>rental_place</th>\n",
       "      <th>return_place</th>\n",
       "    </tr>\n",
       "    <tr>\n",
       "      <th>bike_number</th>\n",
       "      <th></th>\n",
       "      <th></th>\n",
       "      <th></th>\n",
       "      <th></th>\n",
       "    </tr>\n",
       "  </thead>\n",
       "  <tbody>\n",
       "    <tr>\n",
       "      <td>57114</td>\n",
       "      <td>2019-03-15 10:21:55</td>\n",
       "      <td>2019-03-15 10:28:18</td>\n",
       "      <td>Świdnicka - Piłsudskiego (Hotel Scandic)</td>\n",
       "      <td>Świdnicka - Piłsudskiego (Hotel Scandic)</td>\n",
       "    </tr>\n",
       "    <tr>\n",
       "      <td>57092</td>\n",
       "      <td>2019-03-15 10:21:32</td>\n",
       "      <td>2019-03-15 10:28:23</td>\n",
       "      <td>Świdnicka - Piłsudskiego (Hotel Scandic)</td>\n",
       "      <td>Świdnicka - Piłsudskiego (Hotel Scandic)</td>\n",
       "    </tr>\n",
       "    <tr>\n",
       "      <td>57060</td>\n",
       "      <td>2019-03-15 10:18:19</td>\n",
       "      <td>2019-03-15 10:32:18</td>\n",
       "      <td>Świdnicka - Piłsudskiego (Hotel Scandic)</td>\n",
       "      <td>Świdnicka - Piłsudskiego (Hotel Scandic)</td>\n",
       "    </tr>\n",
       "    <tr>\n",
       "      <td>57115</td>\n",
       "      <td>2019-03-15 10:15:20</td>\n",
       "      <td>2019-03-15 10:32:21</td>\n",
       "      <td>Świdnicka - Piłsudskiego (Hotel Scandic)</td>\n",
       "      <td>Świdnicka - Piłsudskiego (Hotel Scandic)</td>\n",
       "    </tr>\n",
       "    <tr>\n",
       "      <td>57114</td>\n",
       "      <td>2019-03-15 10:32:19</td>\n",
       "      <td>2019-03-15 10:34:08</td>\n",
       "      <td>Świdnicka - Piłsudskiego (Hotel Scandic)</td>\n",
       "      <td>Świdnicka - Piłsudskiego (Hotel Scandic)</td>\n",
       "    </tr>\n",
       "  </tbody>\n",
       "</table>\n",
       "</div>"
      ],
      "text/plain": [
       "                      start_time             end_time  \\\n",
       "bike_number                                             \n",
       "57114        2019-03-15 10:21:55  2019-03-15 10:28:18   \n",
       "57092        2019-03-15 10:21:32  2019-03-15 10:28:23   \n",
       "57060        2019-03-15 10:18:19  2019-03-15 10:32:18   \n",
       "57115        2019-03-15 10:15:20  2019-03-15 10:32:21   \n",
       "57114        2019-03-15 10:32:19  2019-03-15 10:34:08   \n",
       "\n",
       "                                         rental_place  \\\n",
       "bike_number                                             \n",
       "57114        Świdnicka - Piłsudskiego (Hotel Scandic)   \n",
       "57092        Świdnicka - Piłsudskiego (Hotel Scandic)   \n",
       "57060        Świdnicka - Piłsudskiego (Hotel Scandic)   \n",
       "57115        Świdnicka - Piłsudskiego (Hotel Scandic)   \n",
       "57114        Świdnicka - Piłsudskiego (Hotel Scandic)   \n",
       "\n",
       "                                         return_place  \n",
       "bike_number                                            \n",
       "57114        Świdnicka - Piłsudskiego (Hotel Scandic)  \n",
       "57092        Świdnicka - Piłsudskiego (Hotel Scandic)  \n",
       "57060        Świdnicka - Piłsudskiego (Hotel Scandic)  \n",
       "57115        Świdnicka - Piłsudskiego (Hotel Scandic)  \n",
       "57114        Świdnicka - Piłsudskiego (Hotel Scandic)  "
      ]
     },
     "execution_count": 17,
     "metadata": {},
     "output_type": "execute_result"
    }
   ],
   "source": [
    "df = pd.read_csv(PATH, index_col=0, parse_dates=True)\n",
    "\n",
    "df.head()"
   ]
  },
  {
   "cell_type": "code",
   "execution_count": 18,
   "metadata": {},
   "outputs": [
    {
     "data": {
      "text/html": [
       "<div>\n",
       "<style scoped>\n",
       "    .dataframe tbody tr th:only-of-type {\n",
       "        vertical-align: middle;\n",
       "    }\n",
       "\n",
       "    .dataframe tbody tr th {\n",
       "        vertical-align: top;\n",
       "    }\n",
       "\n",
       "    .dataframe thead th {\n",
       "        text-align: right;\n",
       "    }\n",
       "</style>\n",
       "<table border=\"1\" class=\"dataframe\">\n",
       "  <thead>\n",
       "    <tr style=\"text-align: right;\">\n",
       "      <th></th>\n",
       "      <th>start_time</th>\n",
       "      <th>end_time</th>\n",
       "      <th>rental_place</th>\n",
       "      <th>return_place</th>\n",
       "    </tr>\n",
       "    <tr>\n",
       "      <th>bike_number</th>\n",
       "      <th></th>\n",
       "      <th></th>\n",
       "      <th></th>\n",
       "      <th></th>\n",
       "    </tr>\n",
       "  </thead>\n",
       "  <tbody>\n",
       "    <tr>\n",
       "      <td>57114</td>\n",
       "      <td>2019-03-15 10:21:55</td>\n",
       "      <td>2019-03-15 10:28:18</td>\n",
       "      <td>Świdnicka - Piłsudskiego (Hotel Scandic)</td>\n",
       "      <td>Świdnicka - Piłsudskiego (Hotel Scandic)</td>\n",
       "    </tr>\n",
       "    <tr>\n",
       "      <td>57092</td>\n",
       "      <td>2019-03-15 10:21:32</td>\n",
       "      <td>2019-03-15 10:28:23</td>\n",
       "      <td>Świdnicka - Piłsudskiego (Hotel Scandic)</td>\n",
       "      <td>Świdnicka - Piłsudskiego (Hotel Scandic)</td>\n",
       "    </tr>\n",
       "    <tr>\n",
       "      <td>57060</td>\n",
       "      <td>2019-03-15 10:18:19</td>\n",
       "      <td>2019-03-15 10:32:18</td>\n",
       "      <td>Świdnicka - Piłsudskiego (Hotel Scandic)</td>\n",
       "      <td>Świdnicka - Piłsudskiego (Hotel Scandic)</td>\n",
       "    </tr>\n",
       "    <tr>\n",
       "      <td>57115</td>\n",
       "      <td>2019-03-15 10:15:20</td>\n",
       "      <td>2019-03-15 10:32:21</td>\n",
       "      <td>Świdnicka - Piłsudskiego (Hotel Scandic)</td>\n",
       "      <td>Świdnicka - Piłsudskiego (Hotel Scandic)</td>\n",
       "    </tr>\n",
       "    <tr>\n",
       "      <td>57114</td>\n",
       "      <td>2019-03-15 10:32:19</td>\n",
       "      <td>2019-03-15 10:34:08</td>\n",
       "      <td>Świdnicka - Piłsudskiego (Hotel Scandic)</td>\n",
       "      <td>Świdnicka - Piłsudskiego (Hotel Scandic)</td>\n",
       "    </tr>\n",
       "  </tbody>\n",
       "</table>\n",
       "</div>"
      ],
      "text/plain": [
       "                     start_time            end_time  \\\n",
       "bike_number                                           \n",
       "57114       2019-03-15 10:21:55 2019-03-15 10:28:18   \n",
       "57092       2019-03-15 10:21:32 2019-03-15 10:28:23   \n",
       "57060       2019-03-15 10:18:19 2019-03-15 10:32:18   \n",
       "57115       2019-03-15 10:15:20 2019-03-15 10:32:21   \n",
       "57114       2019-03-15 10:32:19 2019-03-15 10:34:08   \n",
       "\n",
       "                                         rental_place  \\\n",
       "bike_number                                             \n",
       "57114        Świdnicka - Piłsudskiego (Hotel Scandic)   \n",
       "57092        Świdnicka - Piłsudskiego (Hotel Scandic)   \n",
       "57060        Świdnicka - Piłsudskiego (Hotel Scandic)   \n",
       "57115        Świdnicka - Piłsudskiego (Hotel Scandic)   \n",
       "57114        Świdnicka - Piłsudskiego (Hotel Scandic)   \n",
       "\n",
       "                                         return_place  \n",
       "bike_number                                            \n",
       "57114        Świdnicka - Piłsudskiego (Hotel Scandic)  \n",
       "57092        Świdnicka - Piłsudskiego (Hotel Scandic)  \n",
       "57060        Świdnicka - Piłsudskiego (Hotel Scandic)  \n",
       "57115        Świdnicka - Piłsudskiego (Hotel Scandic)  \n",
       "57114        Świdnicka - Piłsudskiego (Hotel Scandic)  "
      ]
     },
     "execution_count": 18,
     "metadata": {},
     "output_type": "execute_result"
    }
   ],
   "source": [
    "df['start_time']= pd.to_datetime(df['start_time']) \n",
    "df['end_time']= pd.to_datetime(df['end_time'])\n",
    "df.head()"
   ]
  },
  {
   "cell_type": "markdown",
   "metadata": {},
   "source": [
    "## Divide in intervals"
   ]
  },
  {
   "cell_type": "markdown",
   "metadata": {},
   "source": [
    "### Earliest rental "
   ]
  },
  {
   "cell_type": "code",
   "execution_count": 19,
   "metadata": {},
   "outputs": [
    {
     "data": {
      "text/plain": [
       "Timestamp('2019-03-11 00:00:00')"
      ]
     },
     "execution_count": 19,
     "metadata": {},
     "output_type": "execute_result"
    }
   ],
   "source": [
    "start = df.start_time.min()\n",
    "start = start.replace(hour=0, minute=0, second=0)\n",
    "start"
   ]
  },
  {
   "cell_type": "markdown",
   "metadata": {},
   "source": [
    "### Latest return"
   ]
  },
  {
   "cell_type": "code",
   "execution_count": 20,
   "metadata": {},
   "outputs": [
    {
     "data": {
      "text/plain": [
       "Timestamp('2019-04-02 00:00:00')"
      ]
     },
     "execution_count": 20,
     "metadata": {},
     "output_type": "execute_result"
    }
   ],
   "source": [
    "end = df.end_time.max()\n",
    "end = end.replace(hour=0, minute=0, second=0) + datetime.timedelta(days=1)\n",
    "\n",
    "end"
   ]
  },
  {
   "cell_type": "code",
   "execution_count": 21,
   "metadata": {},
   "outputs": [
    {
     "data": {
      "text/plain": [
       "DatetimeIndex(['2019-03-11 00:00:00', '2019-03-11 00:15:00',\n",
       "               '2019-03-11 00:30:00', '2019-03-11 00:45:00',\n",
       "               '2019-03-11 01:00:00', '2019-03-11 01:15:00',\n",
       "               '2019-03-11 01:30:00', '2019-03-11 01:45:00',\n",
       "               '2019-03-11 02:00:00', '2019-03-11 02:15:00',\n",
       "               ...\n",
       "               '2019-04-01 21:45:00', '2019-04-01 22:00:00',\n",
       "               '2019-04-01 22:15:00', '2019-04-01 22:30:00',\n",
       "               '2019-04-01 22:45:00', '2019-04-01 23:00:00',\n",
       "               '2019-04-01 23:15:00', '2019-04-01 23:30:00',\n",
       "               '2019-04-01 23:45:00', '2019-04-02 00:00:00'],\n",
       "              dtype='datetime64[ns]', length=2113, freq='15T')"
      ]
     },
     "execution_count": 21,
     "metadata": {},
     "output_type": "execute_result"
    }
   ],
   "source": [
    "ranges = pd.date_range(start, end,freq='15T')\n",
    "ranges"
   ]
  },
  {
   "cell_type": "code",
   "execution_count": 22,
   "metadata": {},
   "outputs": [
    {
     "data": {
      "text/html": [
       "<div>\n",
       "<style scoped>\n",
       "    .dataframe tbody tr th:only-of-type {\n",
       "        vertical-align: middle;\n",
       "    }\n",
       "\n",
       "    .dataframe tbody tr th {\n",
       "        vertical-align: top;\n",
       "    }\n",
       "\n",
       "    .dataframe thead th {\n",
       "        text-align: right;\n",
       "    }\n",
       "</style>\n",
       "<table border=\"1\" class=\"dataframe\">\n",
       "  <thead>\n",
       "    <tr style=\"text-align: right;\">\n",
       "      <th></th>\n",
       "      <th>interval_start</th>\n",
       "      <th>interval_end</th>\n",
       "      <th>rental_place</th>\n",
       "      <th>return_place</th>\n",
       "    </tr>\n",
       "  </thead>\n",
       "  <tbody>\n",
       "  </tbody>\n",
       "</table>\n",
       "</div>"
      ],
      "text/plain": [
       "Empty DataFrame\n",
       "Columns: [interval_start, interval_end, rental_place, return_place]\n",
       "Index: []"
      ]
     },
     "execution_count": 22,
     "metadata": {},
     "output_type": "execute_result"
    }
   ],
   "source": [
    "all_trips_in_all_intervals_df  = pd.DataFrame(columns=[\"interval_start\", \"interval_end\", \"rental_place\", \"return_place\"])\n",
    "all_trips_in_all_intervals_df   "
   ]
  },
  {
   "cell_type": "code",
   "execution_count": 23,
   "metadata": {},
   "outputs": [
    {
     "name": "stderr",
     "output_type": "stream",
     "text": [
      "D:\\Anaconda\\lib\\site-packages\\ipykernel_launcher.py:7: SettingWithCopyWarning: \n",
      "A value is trying to be set on a copy of a slice from a DataFrame.\n",
      "Try using .loc[row_indexer,col_indexer] = value instead\n",
      "\n",
      "See the caveats in the documentation: http://pandas.pydata.org/pandas-docs/stable/user_guide/indexing.html#returning-a-view-versus-a-copy\n",
      "  import sys\n",
      "D:\\Anaconda\\lib\\site-packages\\ipykernel_launcher.py:8: SettingWithCopyWarning: \n",
      "A value is trying to be set on a copy of a slice from a DataFrame.\n",
      "Try using .loc[row_indexer,col_indexer] = value instead\n",
      "\n",
      "See the caveats in the documentation: http://pandas.pydata.org/pandas-docs/stable/user_guide/indexing.html#returning-a-view-versus-a-copy\n",
      "  \n"
     ]
    }
   ],
   "source": [
    "for i in range(len(ranges)-1):\n",
    "    interval_start, interval_end = ranges[i],ranges[i+1]\n",
    "    \n",
    "    interval_df = df[(df.start_time <= interval_end) & (df.end_time >= interval_start)]    \n",
    "    \n",
    "    \n",
    "    interval_df[\"interval_start\"] = interval_start\n",
    "    interval_df[\"interval_end\"] = interval_end\n",
    "    \n",
    "    all_trips_in_all_intervals_df = all_trips_in_all_intervals_df.append(interval_df[[\"interval_start\", \"interval_end\", \"rental_place\", \"return_place\"]])"
   ]
  },
  {
   "cell_type": "code",
   "execution_count": 24,
   "metadata": {},
   "outputs": [
    {
     "data": {
      "text/html": [
       "<div>\n",
       "<style scoped>\n",
       "    .dataframe tbody tr th:only-of-type {\n",
       "        vertical-align: middle;\n",
       "    }\n",
       "\n",
       "    .dataframe tbody tr th {\n",
       "        vertical-align: top;\n",
       "    }\n",
       "\n",
       "    .dataframe thead th {\n",
       "        text-align: right;\n",
       "    }\n",
       "</style>\n",
       "<table border=\"1\" class=\"dataframe\">\n",
       "  <thead>\n",
       "    <tr style=\"text-align: right;\">\n",
       "      <th></th>\n",
       "      <th>interval_start</th>\n",
       "      <th>interval_end</th>\n",
       "      <th>rental_place</th>\n",
       "      <th>return_place</th>\n",
       "    </tr>\n",
       "  </thead>\n",
       "  <tbody>\n",
       "    <tr>\n",
       "      <td>58086</td>\n",
       "      <td>2019-03-11 21:15:00</td>\n",
       "      <td>2019-03-11 21:30:00</td>\n",
       "      <td>Dworzec Główny</td>\n",
       "      <td>Dworzec Główny</td>\n",
       "    </tr>\n",
       "    <tr>\n",
       "      <td>58086</td>\n",
       "      <td>2019-03-11 21:30:00</td>\n",
       "      <td>2019-03-11 21:45:00</td>\n",
       "      <td>Dworzec Główny</td>\n",
       "      <td>Dworzec Główny</td>\n",
       "    </tr>\n",
       "    <tr>\n",
       "      <td>58086</td>\n",
       "      <td>2019-03-11 21:45:00</td>\n",
       "      <td>2019-03-11 22:00:00</td>\n",
       "      <td>Dworzec Główny</td>\n",
       "      <td>Dworzec Główny</td>\n",
       "    </tr>\n",
       "    <tr>\n",
       "      <td>58086</td>\n",
       "      <td>2019-03-11 22:00:00</td>\n",
       "      <td>2019-03-11 22:15:00</td>\n",
       "      <td>Dworzec Główny</td>\n",
       "      <td>Dworzec Główny</td>\n",
       "    </tr>\n",
       "    <tr>\n",
       "      <td>57114</td>\n",
       "      <td>2019-03-15 10:15:00</td>\n",
       "      <td>2019-03-15 10:30:00</td>\n",
       "      <td>Świdnicka - Piłsudskiego (Hotel Scandic)</td>\n",
       "      <td>Świdnicka - Piłsudskiego (Hotel Scandic)</td>\n",
       "    </tr>\n",
       "    <tr>\n",
       "      <td>...</td>\n",
       "      <td>...</td>\n",
       "      <td>...</td>\n",
       "      <td>...</td>\n",
       "      <td>...</td>\n",
       "    </tr>\n",
       "    <tr>\n",
       "      <td>57094</td>\n",
       "      <td>2019-04-01 00:30:00</td>\n",
       "      <td>2019-04-01 00:45:00</td>\n",
       "      <td>Powstańcow Śląskich - Aleja Hallera</td>\n",
       "      <td>Grabiszyńska - Aleja Hallera</td>\n",
       "    </tr>\n",
       "    <tr>\n",
       "      <td>57546</td>\n",
       "      <td>2019-04-01 00:30:00</td>\n",
       "      <td>2019-04-01 00:45:00</td>\n",
       "      <td>Wita Stwosza - Szewska</td>\n",
       "      <td>Rondo Reagana</td>\n",
       "    </tr>\n",
       "    <tr>\n",
       "      <td>57458</td>\n",
       "      <td>2019-04-01 00:30:00</td>\n",
       "      <td>2019-04-01 00:45:00</td>\n",
       "      <td>Sienkiewicza - Wyszyńskiego</td>\n",
       "      <td>Traugutta - Kościuszki</td>\n",
       "    </tr>\n",
       "    <tr>\n",
       "      <td>57546</td>\n",
       "      <td>2019-04-01 00:45:00</td>\n",
       "      <td>2019-04-01 01:00:00</td>\n",
       "      <td>Wita Stwosza - Szewska</td>\n",
       "      <td>Rondo Reagana</td>\n",
       "    </tr>\n",
       "    <tr>\n",
       "      <td>57458</td>\n",
       "      <td>2019-04-01 00:45:00</td>\n",
       "      <td>2019-04-01 01:00:00</td>\n",
       "      <td>Sienkiewicza - Wyszyńskiego</td>\n",
       "      <td>Traugutta - Kościuszki</td>\n",
       "    </tr>\n",
       "  </tbody>\n",
       "</table>\n",
       "<p>91533 rows × 4 columns</p>\n",
       "</div>"
      ],
      "text/plain": [
       "           interval_start        interval_end  \\\n",
       "58086 2019-03-11 21:15:00 2019-03-11 21:30:00   \n",
       "58086 2019-03-11 21:30:00 2019-03-11 21:45:00   \n",
       "58086 2019-03-11 21:45:00 2019-03-11 22:00:00   \n",
       "58086 2019-03-11 22:00:00 2019-03-11 22:15:00   \n",
       "57114 2019-03-15 10:15:00 2019-03-15 10:30:00   \n",
       "...                   ...                 ...   \n",
       "57094 2019-04-01 00:30:00 2019-04-01 00:45:00   \n",
       "57546 2019-04-01 00:30:00 2019-04-01 00:45:00   \n",
       "57458 2019-04-01 00:30:00 2019-04-01 00:45:00   \n",
       "57546 2019-04-01 00:45:00 2019-04-01 01:00:00   \n",
       "57458 2019-04-01 00:45:00 2019-04-01 01:00:00   \n",
       "\n",
       "                                   rental_place  \\\n",
       "58086                            Dworzec Główny   \n",
       "58086                            Dworzec Główny   \n",
       "58086                            Dworzec Główny   \n",
       "58086                            Dworzec Główny   \n",
       "57114  Świdnicka - Piłsudskiego (Hotel Scandic)   \n",
       "...                                         ...   \n",
       "57094       Powstańcow Śląskich - Aleja Hallera   \n",
       "57546                    Wita Stwosza - Szewska   \n",
       "57458               Sienkiewicza - Wyszyńskiego   \n",
       "57546                    Wita Stwosza - Szewska   \n",
       "57458               Sienkiewicza - Wyszyńskiego   \n",
       "\n",
       "                                   return_place  \n",
       "58086                            Dworzec Główny  \n",
       "58086                            Dworzec Główny  \n",
       "58086                            Dworzec Główny  \n",
       "58086                            Dworzec Główny  \n",
       "57114  Świdnicka - Piłsudskiego (Hotel Scandic)  \n",
       "...                                         ...  \n",
       "57094              Grabiszyńska - Aleja Hallera  \n",
       "57546                             Rondo Reagana  \n",
       "57458                    Traugutta - Kościuszki  \n",
       "57546                             Rondo Reagana  \n",
       "57458                    Traugutta - Kościuszki  \n",
       "\n",
       "[91533 rows x 4 columns]"
      ]
     },
     "execution_count": 24,
     "metadata": {},
     "output_type": "execute_result"
    }
   ],
   "source": [
    "all_trips_in_all_intervals_df"
   ]
  },
  {
   "cell_type": "markdown",
   "metadata": {},
   "source": [
    "## Group by rentsl/return place"
   ]
  },
  {
   "cell_type": "code",
   "execution_count": 25,
   "metadata": {},
   "outputs": [
    {
     "data": {
      "text/html": [
       "<div>\n",
       "<style scoped>\n",
       "    .dataframe tbody tr th:only-of-type {\n",
       "        vertical-align: middle;\n",
       "    }\n",
       "\n",
       "    .dataframe tbody tr th {\n",
       "        vertical-align: top;\n",
       "    }\n",
       "\n",
       "    .dataframe thead th {\n",
       "        text-align: right;\n",
       "    }\n",
       "</style>\n",
       "<table border=\"1\" class=\"dataframe\">\n",
       "  <thead>\n",
       "    <tr style=\"text-align: right;\">\n",
       "      <th></th>\n",
       "      <th>interval_start</th>\n",
       "      <th>interval_end</th>\n",
       "      <th>number_of_trips</th>\n",
       "      <th>rental_place</th>\n",
       "      <th>return_place</th>\n",
       "    </tr>\n",
       "  </thead>\n",
       "  <tbody>\n",
       "  </tbody>\n",
       "</table>\n",
       "</div>"
      ],
      "text/plain": [
       "Empty DataFrame\n",
       "Columns: [interval_start, interval_end, number_of_trips, rental_place, return_place]\n",
       "Index: []"
      ]
     },
     "execution_count": 25,
     "metadata": {},
     "output_type": "execute_result"
    }
   ],
   "source": [
    "intervals_grouped_df = pd.DataFrame(columns=[\"interval_start\", \"interval_end\", \"number_of_trips\", \"rental_place\", \"return_place\"])\n",
    "\n",
    "intervals_grouped_df"
   ]
  },
  {
   "cell_type": "code",
   "execution_count": 26,
   "metadata": {},
   "outputs": [],
   "source": [
    "for i in range(len(ranges)-1):\n",
    "    interval_start, interval_end = ranges[i],ranges[i+1]\n",
    "    \n",
    "    interval_group_df = (all_trips_in_all_intervals_df[all_trips_in_all_intervals_df[\"interval_start\"] == interval_start]).groupby(['rental_place', 'return_place'], as_index=False).count()\n",
    "\n",
    "    interval_group_df = interval_group_df.rename(columns={\"interval_start\": \"number_of_trips\"})\n",
    "\n",
    "    interval_group_df[\"interval_start\"] = interval_start\n",
    "    interval_group_df[\"interval_end\"] = interval_end\n",
    "    \n",
    "    intervals_grouped_df = intervals_grouped_df.append(interval_group_df)"
   ]
  },
  {
   "cell_type": "code",
   "execution_count": 27,
   "metadata": {},
   "outputs": [
    {
     "data": {
      "text/html": [
       "<div>\n",
       "<style scoped>\n",
       "    .dataframe tbody tr th:only-of-type {\n",
       "        vertical-align: middle;\n",
       "    }\n",
       "\n",
       "    .dataframe tbody tr th {\n",
       "        vertical-align: top;\n",
       "    }\n",
       "\n",
       "    .dataframe thead th {\n",
       "        text-align: right;\n",
       "    }\n",
       "</style>\n",
       "<table border=\"1\" class=\"dataframe\">\n",
       "  <thead>\n",
       "    <tr style=\"text-align: right;\">\n",
       "      <th></th>\n",
       "      <th>interval_end</th>\n",
       "      <th>interval_start</th>\n",
       "      <th>number_of_trips</th>\n",
       "      <th>rental_place</th>\n",
       "      <th>return_place</th>\n",
       "    </tr>\n",
       "  </thead>\n",
       "  <tbody>\n",
       "    <tr>\n",
       "      <td>0</td>\n",
       "      <td>2019-03-11 21:30:00</td>\n",
       "      <td>2019-03-11 21:15:00</td>\n",
       "      <td>1</td>\n",
       "      <td>Dworzec Główny</td>\n",
       "      <td>Dworzec Główny</td>\n",
       "    </tr>\n",
       "    <tr>\n",
       "      <td>0</td>\n",
       "      <td>2019-03-11 21:45:00</td>\n",
       "      <td>2019-03-11 21:30:00</td>\n",
       "      <td>1</td>\n",
       "      <td>Dworzec Główny</td>\n",
       "      <td>Dworzec Główny</td>\n",
       "    </tr>\n",
       "    <tr>\n",
       "      <td>0</td>\n",
       "      <td>2019-03-11 22:00:00</td>\n",
       "      <td>2019-03-11 21:45:00</td>\n",
       "      <td>1</td>\n",
       "      <td>Dworzec Główny</td>\n",
       "      <td>Dworzec Główny</td>\n",
       "    </tr>\n",
       "    <tr>\n",
       "      <td>0</td>\n",
       "      <td>2019-03-11 22:15:00</td>\n",
       "      <td>2019-03-11 22:00:00</td>\n",
       "      <td>1</td>\n",
       "      <td>Dworzec Główny</td>\n",
       "      <td>Dworzec Główny</td>\n",
       "    </tr>\n",
       "    <tr>\n",
       "      <td>0</td>\n",
       "      <td>2019-03-15 10:30:00</td>\n",
       "      <td>2019-03-15 10:15:00</td>\n",
       "      <td>4</td>\n",
       "      <td>Świdnicka - Piłsudskiego (Hotel Scandic)</td>\n",
       "      <td>Świdnicka - Piłsudskiego (Hotel Scandic)</td>\n",
       "    </tr>\n",
       "    <tr>\n",
       "      <td>...</td>\n",
       "      <td>...</td>\n",
       "      <td>...</td>\n",
       "      <td>...</td>\n",
       "      <td>...</td>\n",
       "      <td>...</td>\n",
       "    </tr>\n",
       "    <tr>\n",
       "      <td>3</td>\n",
       "      <td>2019-04-01 00:45:00</td>\n",
       "      <td>2019-04-01 00:30:00</td>\n",
       "      <td>1</td>\n",
       "      <td>Traugutta - Pułaskiego</td>\n",
       "      <td>Dworzec Główny</td>\n",
       "    </tr>\n",
       "    <tr>\n",
       "      <td>4</td>\n",
       "      <td>2019-04-01 00:45:00</td>\n",
       "      <td>2019-04-01 00:30:00</td>\n",
       "      <td>1</td>\n",
       "      <td>Wita Stwosza - Szewska</td>\n",
       "      <td>Rondo Reagana</td>\n",
       "    </tr>\n",
       "    <tr>\n",
       "      <td>5</td>\n",
       "      <td>2019-04-01 00:45:00</td>\n",
       "      <td>2019-04-01 00:30:00</td>\n",
       "      <td>1</td>\n",
       "      <td>Wróblewskiego (Teki)</td>\n",
       "      <td>Traugutta - Pułaskiego</td>\n",
       "    </tr>\n",
       "    <tr>\n",
       "      <td>0</td>\n",
       "      <td>2019-04-01 01:00:00</td>\n",
       "      <td>2019-04-01 00:45:00</td>\n",
       "      <td>1</td>\n",
       "      <td>Sienkiewicza - Wyszyńskiego</td>\n",
       "      <td>Traugutta - Kościuszki</td>\n",
       "    </tr>\n",
       "    <tr>\n",
       "      <td>1</td>\n",
       "      <td>2019-04-01 01:00:00</td>\n",
       "      <td>2019-04-01 00:45:00</td>\n",
       "      <td>1</td>\n",
       "      <td>Wita Stwosza - Szewska</td>\n",
       "      <td>Rondo Reagana</td>\n",
       "    </tr>\n",
       "  </tbody>\n",
       "</table>\n",
       "<p>64260 rows × 5 columns</p>\n",
       "</div>"
      ],
      "text/plain": [
       "          interval_end      interval_start number_of_trips  \\\n",
       "0  2019-03-11 21:30:00 2019-03-11 21:15:00               1   \n",
       "0  2019-03-11 21:45:00 2019-03-11 21:30:00               1   \n",
       "0  2019-03-11 22:00:00 2019-03-11 21:45:00               1   \n",
       "0  2019-03-11 22:15:00 2019-03-11 22:00:00               1   \n",
       "0  2019-03-15 10:30:00 2019-03-15 10:15:00               4   \n",
       "..                 ...                 ...             ...   \n",
       "3  2019-04-01 00:45:00 2019-04-01 00:30:00               1   \n",
       "4  2019-04-01 00:45:00 2019-04-01 00:30:00               1   \n",
       "5  2019-04-01 00:45:00 2019-04-01 00:30:00               1   \n",
       "0  2019-04-01 01:00:00 2019-04-01 00:45:00               1   \n",
       "1  2019-04-01 01:00:00 2019-04-01 00:45:00               1   \n",
       "\n",
       "                                rental_place  \\\n",
       "0                             Dworzec Główny   \n",
       "0                             Dworzec Główny   \n",
       "0                             Dworzec Główny   \n",
       "0                             Dworzec Główny   \n",
       "0   Świdnicka - Piłsudskiego (Hotel Scandic)   \n",
       "..                                       ...   \n",
       "3                     Traugutta - Pułaskiego   \n",
       "4                     Wita Stwosza - Szewska   \n",
       "5                       Wróblewskiego (Teki)   \n",
       "0                Sienkiewicza - Wyszyńskiego   \n",
       "1                     Wita Stwosza - Szewska   \n",
       "\n",
       "                                return_place  \n",
       "0                             Dworzec Główny  \n",
       "0                             Dworzec Główny  \n",
       "0                             Dworzec Główny  \n",
       "0                             Dworzec Główny  \n",
       "0   Świdnicka - Piłsudskiego (Hotel Scandic)  \n",
       "..                                       ...  \n",
       "3                             Dworzec Główny  \n",
       "4                              Rondo Reagana  \n",
       "5                     Traugutta - Pułaskiego  \n",
       "0                     Traugutta - Kościuszki  \n",
       "1                              Rondo Reagana  \n",
       "\n",
       "[64260 rows x 5 columns]"
      ]
     },
     "execution_count": 27,
     "metadata": {},
     "output_type": "execute_result"
    }
   ],
   "source": [
    "intervals_grouped_df"
   ]
  },
  {
   "cell_type": "markdown",
   "metadata": {},
   "source": [
    "## Save to CSV"
   ]
  },
  {
   "cell_type": "code",
   "execution_count": 28,
   "metadata": {},
   "outputs": [],
   "source": [
    "intervals_grouped_df.to_csv(join(\"plik.csv\"), index=False)"
   ]
  },
  {
   "cell_type": "code",
   "execution_count": null,
   "metadata": {},
   "outputs": [],
   "source": []
  },
  {
   "cell_type": "code",
   "execution_count": null,
   "metadata": {},
   "outputs": [],
   "source": []
  }
 ],
 "metadata": {
  "kernelspec": {
   "display_name": "Python 3",
   "language": "python",
   "name": "python3"
  },
  "language_info": {
   "codemirror_mode": {
    "name": "ipython",
    "version": 3
   },
   "file_extension": ".py",
   "mimetype": "text/x-python",
   "name": "python",
   "nbconvert_exporter": "python",
   "pygments_lexer": "ipython3",
   "version": "3.7.4"
  }
 },
 "nbformat": 4,
 "nbformat_minor": 4
}
