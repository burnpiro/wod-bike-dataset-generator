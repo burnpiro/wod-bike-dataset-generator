{
 "cells": [
  {
   "cell_type": "markdown",
   "metadata": {},
   "source": [
    "## Preprocess data into 15 intervals"
   ]
  },
  {
   "cell_type": "markdown",
   "metadata": {},
   "source": [
    "## Imports"
   ]
  },
  {
   "cell_type": "code",
   "execution_count": 13,
   "metadata": {},
   "outputs": [],
   "source": [
    "import pandas as pd\n",
    "from os.path import join\n",
    "import datetime\n",
    "\n",
    "%matplotlib inline\n",
    "pd.set_option(\"display.precision\", 2)"
   ]
  },
  {
   "cell_type": "code",
   "execution_count": 2,
   "metadata": {},
   "outputs": [
    {
     "data": {
      "text/plain": [
       "'data/historia_przejazdow_2019-07.csv'"
      ]
     },
     "execution_count": 2,
     "metadata": {},
     "output_type": "execute_result"
    }
   ],
   "source": [
    "PATH = join(\"data\", \"historia_przejazdow_2019-07.csv\")\n",
    "PATH"
   ]
  },
  {
   "cell_type": "code",
   "execution_count": 3,
   "metadata": {},
   "outputs": [
    {
     "data": {
      "text/html": [
       "<div>\n",
       "<style scoped>\n",
       "    .dataframe tbody tr th:only-of-type {\n",
       "        vertical-align: middle;\n",
       "    }\n",
       "\n",
       "    .dataframe tbody tr th {\n",
       "        vertical-align: top;\n",
       "    }\n",
       "\n",
       "    .dataframe thead th {\n",
       "        text-align: right;\n",
       "    }\n",
       "</style>\n",
       "<table border=\"1\" class=\"dataframe\">\n",
       "  <thead>\n",
       "    <tr style=\"text-align: right;\">\n",
       "      <th></th>\n",
       "      <th>uid</th>\n",
       "      <th>bike_number</th>\n",
       "      <th>start_time</th>\n",
       "      <th>end_time</th>\n",
       "      <th>rental_place</th>\n",
       "      <th>return_place</th>\n",
       "    </tr>\n",
       "  </thead>\n",
       "  <tbody>\n",
       "    <tr>\n",
       "      <th>0</th>\n",
       "      <td>76829173</td>\n",
       "      <td>57138</td>\n",
       "      <td>2019-06-30 23:59:48</td>\n",
       "      <td>2019-07-01 00:00:31</td>\n",
       "      <td>Kościuszki / Pułaskiego</td>\n",
       "      <td>Kościuszki / Pułaskiego</td>\n",
       "    </tr>\n",
       "    <tr>\n",
       "      <th>1</th>\n",
       "      <td>76828940</td>\n",
       "      <td>57254</td>\n",
       "      <td>2019-06-30 23:54:42</td>\n",
       "      <td>2019-07-01 00:00:44</td>\n",
       "      <td>Kamienna / Tomaszowska</td>\n",
       "      <td>Nyska / Jesionowa</td>\n",
       "    </tr>\n",
       "    <tr>\n",
       "      <th>2</th>\n",
       "      <td>76826519</td>\n",
       "      <td>57413</td>\n",
       "      <td>2019-06-30 23:18:03</td>\n",
       "      <td>2019-07-01 00:01:01</td>\n",
       "      <td>Norwida / Wyspiańskiego (PWr)</td>\n",
       "      <td>Krucza / Mielecka / Stalowa</td>\n",
       "    </tr>\n",
       "    <tr>\n",
       "      <th>3</th>\n",
       "      <td>76828735</td>\n",
       "      <td>650703</td>\n",
       "      <td>2019-06-30 23:51:05</td>\n",
       "      <td>2019-07-01 00:01:02</td>\n",
       "      <td>Świeradowska (Ferio Gaj )</td>\n",
       "      <td>Tarnogajska / Klimasa</td>\n",
       "    </tr>\n",
       "    <tr>\n",
       "      <th>4</th>\n",
       "      <td>76828725</td>\n",
       "      <td>650374</td>\n",
       "      <td>2019-06-30 23:50:54</td>\n",
       "      <td>2019-07-01 00:01:24</td>\n",
       "      <td>Plac Kościuszki (Renoma)</td>\n",
       "      <td>Plac Powstańców Śląskich</td>\n",
       "    </tr>\n",
       "  </tbody>\n",
       "</table>\n",
       "</div>"
      ],
      "text/plain": [
       "        uid  bike_number           start_time             end_time  \\\n",
       "0  76829173        57138  2019-06-30 23:59:48  2019-07-01 00:00:31   \n",
       "1  76828940        57254  2019-06-30 23:54:42  2019-07-01 00:00:44   \n",
       "2  76826519        57413  2019-06-30 23:18:03  2019-07-01 00:01:01   \n",
       "3  76828735       650703  2019-06-30 23:51:05  2019-07-01 00:01:02   \n",
       "4  76828725       650374  2019-06-30 23:50:54  2019-07-01 00:01:24   \n",
       "\n",
       "                    rental_place                 return_place  \n",
       "0        Kościuszki / Pułaskiego      Kościuszki / Pułaskiego  \n",
       "1         Kamienna / Tomaszowska            Nyska / Jesionowa  \n",
       "2  Norwida / Wyspiańskiego (PWr)  Krucza / Mielecka / Stalowa  \n",
       "3      Świeradowska (Ferio Gaj )        Tarnogajska / Klimasa  \n",
       "4       Plac Kościuszki (Renoma)     Plac Powstańców Śląskich  "
      ]
     },
     "execution_count": 3,
     "metadata": {},
     "output_type": "execute_result"
    }
   ],
   "source": [
    "df = pd.read_csv(PATH, index_col=0, parse_dates=True)\n",
    "\n",
    "df.head()"
   ]
  },
  {
   "cell_type": "code",
   "execution_count": 4,
   "metadata": {},
   "outputs": [
    {
     "data": {
      "text/html": [
       "<div>\n",
       "<style scoped>\n",
       "    .dataframe tbody tr th:only-of-type {\n",
       "        vertical-align: middle;\n",
       "    }\n",
       "\n",
       "    .dataframe tbody tr th {\n",
       "        vertical-align: top;\n",
       "    }\n",
       "\n",
       "    .dataframe thead th {\n",
       "        text-align: right;\n",
       "    }\n",
       "</style>\n",
       "<table border=\"1\" class=\"dataframe\">\n",
       "  <thead>\n",
       "    <tr style=\"text-align: right;\">\n",
       "      <th></th>\n",
       "      <th>uid</th>\n",
       "      <th>bike_number</th>\n",
       "      <th>start_time</th>\n",
       "      <th>end_time</th>\n",
       "      <th>rental_place</th>\n",
       "      <th>return_place</th>\n",
       "    </tr>\n",
       "  </thead>\n",
       "  <tbody>\n",
       "    <tr>\n",
       "      <th>0</th>\n",
       "      <td>76829173</td>\n",
       "      <td>57138</td>\n",
       "      <td>2019-06-30 23:59:48</td>\n",
       "      <td>2019-07-01 00:00:31</td>\n",
       "      <td>Kościuszki / Pułaskiego</td>\n",
       "      <td>Kościuszki / Pułaskiego</td>\n",
       "    </tr>\n",
       "    <tr>\n",
       "      <th>1</th>\n",
       "      <td>76828940</td>\n",
       "      <td>57254</td>\n",
       "      <td>2019-06-30 23:54:42</td>\n",
       "      <td>2019-07-01 00:00:44</td>\n",
       "      <td>Kamienna / Tomaszowska</td>\n",
       "      <td>Nyska / Jesionowa</td>\n",
       "    </tr>\n",
       "    <tr>\n",
       "      <th>2</th>\n",
       "      <td>76826519</td>\n",
       "      <td>57413</td>\n",
       "      <td>2019-06-30 23:18:03</td>\n",
       "      <td>2019-07-01 00:01:01</td>\n",
       "      <td>Norwida / Wyspiańskiego (PWr)</td>\n",
       "      <td>Krucza / Mielecka / Stalowa</td>\n",
       "    </tr>\n",
       "    <tr>\n",
       "      <th>3</th>\n",
       "      <td>76828735</td>\n",
       "      <td>650703</td>\n",
       "      <td>2019-06-30 23:51:05</td>\n",
       "      <td>2019-07-01 00:01:02</td>\n",
       "      <td>Świeradowska (Ferio Gaj )</td>\n",
       "      <td>Tarnogajska / Klimasa</td>\n",
       "    </tr>\n",
       "    <tr>\n",
       "      <th>4</th>\n",
       "      <td>76828725</td>\n",
       "      <td>650374</td>\n",
       "      <td>2019-06-30 23:50:54</td>\n",
       "      <td>2019-07-01 00:01:24</td>\n",
       "      <td>Plac Kościuszki (Renoma)</td>\n",
       "      <td>Plac Powstańców Śląskich</td>\n",
       "    </tr>\n",
       "  </tbody>\n",
       "</table>\n",
       "</div>"
      ],
      "text/plain": [
       "        uid  bike_number          start_time            end_time  \\\n",
       "0  76829173        57138 2019-06-30 23:59:48 2019-07-01 00:00:31   \n",
       "1  76828940        57254 2019-06-30 23:54:42 2019-07-01 00:00:44   \n",
       "2  76826519        57413 2019-06-30 23:18:03 2019-07-01 00:01:01   \n",
       "3  76828735       650703 2019-06-30 23:51:05 2019-07-01 00:01:02   \n",
       "4  76828725       650374 2019-06-30 23:50:54 2019-07-01 00:01:24   \n",
       "\n",
       "                    rental_place                 return_place  \n",
       "0        Kościuszki / Pułaskiego      Kościuszki / Pułaskiego  \n",
       "1         Kamienna / Tomaszowska            Nyska / Jesionowa  \n",
       "2  Norwida / Wyspiańskiego (PWr)  Krucza / Mielecka / Stalowa  \n",
       "3      Świeradowska (Ferio Gaj )        Tarnogajska / Klimasa  \n",
       "4       Plac Kościuszki (Renoma)     Plac Powstańców Śląskich  "
      ]
     },
     "execution_count": 4,
     "metadata": {},
     "output_type": "execute_result"
    }
   ],
   "source": [
    "df['start_time']= pd.to_datetime(df['start_time']) \n",
    "df['end_time']= pd.to_datetime(df['end_time'])\n",
    "df.head()"
   ]
  },
  {
   "cell_type": "markdown",
   "metadata": {},
   "source": [
    "## Divide in intervals"
   ]
  },
  {
   "cell_type": "markdown",
   "metadata": {},
   "source": [
    "### Earliest rental "
   ]
  },
  {
   "cell_type": "code",
   "execution_count": 5,
   "metadata": {},
   "outputs": [
    {
     "data": {
      "text/plain": [
       "Timestamp('2019-05-26 00:00:00')"
      ]
     },
     "execution_count": 5,
     "metadata": {},
     "output_type": "execute_result"
    }
   ],
   "source": [
    "start = df.start_time.min()\n",
    "start = start.replace(hour=0, minute=0, second=0)\n",
    "start"
   ]
  },
  {
   "cell_type": "markdown",
   "metadata": {},
   "source": [
    "### Latest return"
   ]
  },
  {
   "cell_type": "code",
   "execution_count": 15,
   "metadata": {},
   "outputs": [
    {
     "data": {
      "text/plain": [
       "Timestamp('2019-08-01 00:00:00')"
      ]
     },
     "execution_count": 15,
     "metadata": {},
     "output_type": "execute_result"
    }
   ],
   "source": [
    "end = df.end_time.max()\n",
    "end = end.replace(hour=0, minute=0, second=0) + datetime.timedelta(days=1)\n",
    "\n",
    "end"
   ]
  },
  {
   "cell_type": "code",
   "execution_count": 16,
   "metadata": {},
   "outputs": [
    {
     "data": {
      "text/plain": [
       "DatetimeIndex(['2019-05-26 00:00:00', '2019-05-26 00:15:00',\n",
       "               '2019-05-26 00:30:00', '2019-05-26 00:45:00',\n",
       "               '2019-05-26 01:00:00', '2019-05-26 01:15:00',\n",
       "               '2019-05-26 01:30:00', '2019-05-26 01:45:00',\n",
       "               '2019-05-26 02:00:00', '2019-05-26 02:15:00',\n",
       "               ...\n",
       "               '2019-07-31 21:45:00', '2019-07-31 22:00:00',\n",
       "               '2019-07-31 22:15:00', '2019-07-31 22:30:00',\n",
       "               '2019-07-31 22:45:00', '2019-07-31 23:00:00',\n",
       "               '2019-07-31 23:15:00', '2019-07-31 23:30:00',\n",
       "               '2019-07-31 23:45:00', '2019-08-01 00:00:00'],\n",
       "              dtype='datetime64[ns]', length=6433, freq='15T')"
      ]
     },
     "execution_count": 16,
     "metadata": {},
     "output_type": "execute_result"
    }
   ],
   "source": [
    "ranges = pd.date_range(start, end,freq='15T')\n",
    "ranges"
   ]
  },
  {
   "cell_type": "code",
   "execution_count": 8,
   "metadata": {},
   "outputs": [
    {
     "data": {
      "text/html": [
       "<div>\n",
       "<style scoped>\n",
       "    .dataframe tbody tr th:only-of-type {\n",
       "        vertical-align: middle;\n",
       "    }\n",
       "\n",
       "    .dataframe tbody tr th {\n",
       "        vertical-align: top;\n",
       "    }\n",
       "\n",
       "    .dataframe thead th {\n",
       "        text-align: right;\n",
       "    }\n",
       "</style>\n",
       "<table border=\"1\" class=\"dataframe\">\n",
       "  <thead>\n",
       "    <tr style=\"text-align: right;\">\n",
       "      <th></th>\n",
       "      <th>interval_start</th>\n",
       "      <th>interval_end</th>\n",
       "      <th>rental_place</th>\n",
       "      <th>return_place</th>\n",
       "    </tr>\n",
       "  </thead>\n",
       "  <tbody>\n",
       "  </tbody>\n",
       "</table>\n",
       "</div>"
      ],
      "text/plain": [
       "Empty DataFrame\n",
       "Columns: [interval_start, interval_end, rental_place, return_place]\n",
       "Index: []"
      ]
     },
     "execution_count": 8,
     "metadata": {},
     "output_type": "execute_result"
    }
   ],
   "source": [
    "all_trips_in_all_intervals_df  = pd.DataFrame(columns=[\"interval_start\", \"interval_end\", \"rental_place\", \"return_place\"])\n",
    "all_trips_in_all_intervals_df   "
   ]
  },
  {
   "cell_type": "code",
   "execution_count": 9,
   "metadata": {},
   "outputs": [
    {
     "name": "stderr",
     "output_type": "stream",
     "text": [
      "<ipython-input-9-a70ccd99ed5b>:7: SettingWithCopyWarning: \n",
      "A value is trying to be set on a copy of a slice from a DataFrame.\n",
      "Try using .loc[row_indexer,col_indexer] = value instead\n",
      "\n",
      "See the caveats in the documentation: https://pandas.pydata.org/pandas-docs/stable/user_guide/indexing.html#returning-a-view-versus-a-copy\n",
      "  interval_df[\"interval_start\"] = interval_start\n",
      "<ipython-input-9-a70ccd99ed5b>:8: SettingWithCopyWarning: \n",
      "A value is trying to be set on a copy of a slice from a DataFrame.\n",
      "Try using .loc[row_indexer,col_indexer] = value instead\n",
      "\n",
      "See the caveats in the documentation: https://pandas.pydata.org/pandas-docs/stable/user_guide/indexing.html#returning-a-view-versus-a-copy\n",
      "  interval_df[\"interval_end\"] = interval_end\n"
     ]
    }
   ],
   "source": [
    "for i in range(len(ranges)-1):\n",
    "    interval_start, interval_end = ranges[i],ranges[i+1]\n",
    "    \n",
    "    interval_df = df[(df.start_time <= interval_end) & (df.end_time >= interval_start)]    \n",
    "    \n",
    "    \n",
    "    interval_df[\"interval_start\"] = interval_start\n",
    "    interval_df[\"interval_end\"] = interval_end\n",
    "    \n",
    "    all_trips_in_all_intervals_df = all_trips_in_all_intervals_df.append(interval_df[[\"interval_start\", \"interval_end\", \"rental_place\", \"return_place\"]])"
   ]
  },
  {
   "cell_type": "code",
   "execution_count": 10,
   "metadata": {},
   "outputs": [
    {
     "data": {
      "text/html": [
       "<div>\n",
       "<style scoped>\n",
       "    .dataframe tbody tr th:only-of-type {\n",
       "        vertical-align: middle;\n",
       "    }\n",
       "\n",
       "    .dataframe tbody tr th {\n",
       "        vertical-align: top;\n",
       "    }\n",
       "\n",
       "    .dataframe thead th {\n",
       "        text-align: right;\n",
       "    }\n",
       "</style>\n",
       "<table border=\"1\" class=\"dataframe\">\n",
       "  <thead>\n",
       "    <tr style=\"text-align: right;\">\n",
       "      <th></th>\n",
       "      <th>interval_start</th>\n",
       "      <th>interval_end</th>\n",
       "      <th>rental_place</th>\n",
       "      <th>return_place</th>\n",
       "    </tr>\n",
       "  </thead>\n",
       "  <tbody>\n",
       "    <tr>\n",
       "      <th>3628</th>\n",
       "      <td>2019-05-26 18:00:00</td>\n",
       "      <td>2019-05-26 18:15:00</td>\n",
       "      <td>Żeromskiego / Daszyńskiego</td>\n",
       "      <td>Żeromskiego / Daszyńskiego</td>\n",
       "    </tr>\n",
       "    <tr>\n",
       "      <th>3628</th>\n",
       "      <td>2019-05-26 18:15:00</td>\n",
       "      <td>2019-05-26 18:30:00</td>\n",
       "      <td>Żeromskiego / Daszyńskiego</td>\n",
       "      <td>Żeromskiego / Daszyńskiego</td>\n",
       "    </tr>\n",
       "    <tr>\n",
       "      <th>3628</th>\n",
       "      <td>2019-05-26 18:30:00</td>\n",
       "      <td>2019-05-26 18:45:00</td>\n",
       "      <td>Żeromskiego / Daszyńskiego</td>\n",
       "      <td>Żeromskiego / Daszyńskiego</td>\n",
       "    </tr>\n",
       "    <tr>\n",
       "      <th>3628</th>\n",
       "      <td>2019-05-26 18:45:00</td>\n",
       "      <td>2019-05-26 19:00:00</td>\n",
       "      <td>Żeromskiego / Daszyńskiego</td>\n",
       "      <td>Żeromskiego / Daszyńskiego</td>\n",
       "    </tr>\n",
       "    <tr>\n",
       "      <th>3628</th>\n",
       "      <td>2019-05-26 19:00:00</td>\n",
       "      <td>2019-05-26 19:15:00</td>\n",
       "      <td>Żeromskiego / Daszyńskiego</td>\n",
       "      <td>Żeromskiego / Daszyńskiego</td>\n",
       "    </tr>\n",
       "    <tr>\n",
       "      <th>...</th>\n",
       "      <td>...</td>\n",
       "      <td>...</td>\n",
       "      <td>...</td>\n",
       "      <td>...</td>\n",
       "    </tr>\n",
       "    <tr>\n",
       "      <th>308854</th>\n",
       "      <td>2019-07-31 23:30:00</td>\n",
       "      <td>2019-07-31 23:45:00</td>\n",
       "      <td>Plac Jana Pawła II (Akademia Muzyczna)</td>\n",
       "      <td>Legnicka / Wejherowska</td>\n",
       "    </tr>\n",
       "    <tr>\n",
       "      <th>308855</th>\n",
       "      <td>2019-07-31 23:30:00</td>\n",
       "      <td>2019-07-31 23:45:00</td>\n",
       "      <td>Grabiszyńska / Stalowa</td>\n",
       "      <td>Kazimierza Wielkiego (Helios)</td>\n",
       "    </tr>\n",
       "    <tr>\n",
       "      <th>308860</th>\n",
       "      <td>2019-07-31 23:30:00</td>\n",
       "      <td>2019-07-31 23:45:00</td>\n",
       "      <td>Obornicka / Bałtycka</td>\n",
       "      <td>Młodych Techników</td>\n",
       "    </tr>\n",
       "    <tr>\n",
       "      <th>308861</th>\n",
       "      <td>2019-07-31 23:30:00</td>\n",
       "      <td>2019-07-31 23:45:00</td>\n",
       "      <td>Promenady Wrocławskie</td>\n",
       "      <td>Jedności Narodowej / Wyszyńskiego</td>\n",
       "    </tr>\n",
       "    <tr>\n",
       "      <th>308862</th>\n",
       "      <td>2019-07-31 23:30:00</td>\n",
       "      <td>2019-07-31 23:45:00</td>\n",
       "      <td>Obornicka / Bałtycka</td>\n",
       "      <td>Młodych Techników</td>\n",
       "    </tr>\n",
       "  </tbody>\n",
       "</table>\n",
       "<p>1000780 rows × 4 columns</p>\n",
       "</div>"
      ],
      "text/plain": [
       "            interval_start        interval_end  \\\n",
       "3628   2019-05-26 18:00:00 2019-05-26 18:15:00   \n",
       "3628   2019-05-26 18:15:00 2019-05-26 18:30:00   \n",
       "3628   2019-05-26 18:30:00 2019-05-26 18:45:00   \n",
       "3628   2019-05-26 18:45:00 2019-05-26 19:00:00   \n",
       "3628   2019-05-26 19:00:00 2019-05-26 19:15:00   \n",
       "...                    ...                 ...   \n",
       "308854 2019-07-31 23:30:00 2019-07-31 23:45:00   \n",
       "308855 2019-07-31 23:30:00 2019-07-31 23:45:00   \n",
       "308860 2019-07-31 23:30:00 2019-07-31 23:45:00   \n",
       "308861 2019-07-31 23:30:00 2019-07-31 23:45:00   \n",
       "308862 2019-07-31 23:30:00 2019-07-31 23:45:00   \n",
       "\n",
       "                                  rental_place  \\\n",
       "3628                Żeromskiego / Daszyńskiego   \n",
       "3628                Żeromskiego / Daszyńskiego   \n",
       "3628                Żeromskiego / Daszyńskiego   \n",
       "3628                Żeromskiego / Daszyńskiego   \n",
       "3628                Żeromskiego / Daszyńskiego   \n",
       "...                                        ...   \n",
       "308854  Plac Jana Pawła II (Akademia Muzyczna)   \n",
       "308855                  Grabiszyńska / Stalowa   \n",
       "308860                    Obornicka / Bałtycka   \n",
       "308861                   Promenady Wrocławskie   \n",
       "308862                    Obornicka / Bałtycka   \n",
       "\n",
       "                             return_place  \n",
       "3628           Żeromskiego / Daszyńskiego  \n",
       "3628           Żeromskiego / Daszyńskiego  \n",
       "3628           Żeromskiego / Daszyńskiego  \n",
       "3628           Żeromskiego / Daszyńskiego  \n",
       "3628           Żeromskiego / Daszyńskiego  \n",
       "...                                   ...  \n",
       "308854             Legnicka / Wejherowska  \n",
       "308855      Kazimierza Wielkiego (Helios)  \n",
       "308860                  Młodych Techników  \n",
       "308861  Jedności Narodowej / Wyszyńskiego  \n",
       "308862                  Młodych Techników  \n",
       "\n",
       "[1000780 rows x 4 columns]"
      ]
     },
     "execution_count": 10,
     "metadata": {},
     "output_type": "execute_result"
    }
   ],
   "source": [
    "all_trips_in_all_intervals_df"
   ]
  },
  {
   "cell_type": "markdown",
   "metadata": {},
   "source": [
    "## Group by rentsl/return place"
   ]
  },
  {
   "cell_type": "code",
   "execution_count": 11,
   "metadata": {},
   "outputs": [
    {
     "data": {
      "text/html": [
       "<div>\n",
       "<style scoped>\n",
       "    .dataframe tbody tr th:only-of-type {\n",
       "        vertical-align: middle;\n",
       "    }\n",
       "\n",
       "    .dataframe tbody tr th {\n",
       "        vertical-align: top;\n",
       "    }\n",
       "\n",
       "    .dataframe thead th {\n",
       "        text-align: right;\n",
       "    }\n",
       "</style>\n",
       "<table border=\"1\" class=\"dataframe\">\n",
       "  <thead>\n",
       "    <tr style=\"text-align: right;\">\n",
       "      <th></th>\n",
       "      <th>interval_start</th>\n",
       "      <th>interval_end</th>\n",
       "      <th>number_of_trips</th>\n",
       "      <th>rental_place</th>\n",
       "      <th>return_place</th>\n",
       "    </tr>\n",
       "  </thead>\n",
       "  <tbody>\n",
       "  </tbody>\n",
       "</table>\n",
       "</div>"
      ],
      "text/plain": [
       "Empty DataFrame\n",
       "Columns: [interval_start, interval_end, number_of_trips, rental_place, return_place]\n",
       "Index: []"
      ]
     },
     "execution_count": 11,
     "metadata": {},
     "output_type": "execute_result"
    }
   ],
   "source": [
    "intervals_grouped_df = pd.DataFrame(columns=[\"interval_start\", \"interval_end\", \"number_of_trips\", \"rental_place\", \"return_place\"])\n",
    "\n",
    "intervals_grouped_df"
   ]
  },
  {
   "cell_type": "code",
   "execution_count": 12,
   "metadata": {},
   "outputs": [
    {
     "ename": "KeyboardInterrupt",
     "evalue": "",
     "output_type": "error",
     "traceback": [
      "\u001b[0;31m---------------------------------------------------------------------------\u001b[0m",
      "\u001b[0;31mKeyboardInterrupt\u001b[0m                         Traceback (most recent call last)",
      "\u001b[0;32m<ipython-input-12-26fffb8582a6>\u001b[0m in \u001b[0;36m<module>\u001b[0;34m\u001b[0m\n\u001b[1;32m      2\u001b[0m     \u001b[0minterval_start\u001b[0m\u001b[0;34m,\u001b[0m \u001b[0minterval_end\u001b[0m \u001b[0;34m=\u001b[0m \u001b[0mranges\u001b[0m\u001b[0;34m[\u001b[0m\u001b[0mi\u001b[0m\u001b[0;34m]\u001b[0m\u001b[0;34m,\u001b[0m\u001b[0mranges\u001b[0m\u001b[0;34m[\u001b[0m\u001b[0mi\u001b[0m\u001b[0;34m+\u001b[0m\u001b[0;36m1\u001b[0m\u001b[0;34m]\u001b[0m\u001b[0;34m\u001b[0m\u001b[0;34m\u001b[0m\u001b[0m\n\u001b[1;32m      3\u001b[0m \u001b[0;34m\u001b[0m\u001b[0m\n\u001b[0;32m----> 4\u001b[0;31m     \u001b[0minterval_group_df\u001b[0m \u001b[0;34m=\u001b[0m \u001b[0;34m(\u001b[0m\u001b[0mall_trips_in_all_intervals_df\u001b[0m\u001b[0;34m[\u001b[0m\u001b[0mall_trips_in_all_intervals_df\u001b[0m\u001b[0;34m[\u001b[0m\u001b[0;34m\"interval_start\"\u001b[0m\u001b[0;34m]\u001b[0m \u001b[0;34m==\u001b[0m \u001b[0minterval_start\u001b[0m\u001b[0;34m]\u001b[0m\u001b[0;34m)\u001b[0m\u001b[0;34m.\u001b[0m\u001b[0mgroupby\u001b[0m\u001b[0;34m(\u001b[0m\u001b[0;34m[\u001b[0m\u001b[0;34m'rental_place'\u001b[0m\u001b[0;34m,\u001b[0m \u001b[0;34m'return_place'\u001b[0m\u001b[0;34m]\u001b[0m\u001b[0;34m,\u001b[0m \u001b[0mas_index\u001b[0m\u001b[0;34m=\u001b[0m\u001b[0;32mFalse\u001b[0m\u001b[0;34m)\u001b[0m\u001b[0;34m.\u001b[0m\u001b[0mcount\u001b[0m\u001b[0;34m(\u001b[0m\u001b[0;34m)\u001b[0m\u001b[0;34m\u001b[0m\u001b[0;34m\u001b[0m\u001b[0m\n\u001b[0m\u001b[1;32m      5\u001b[0m \u001b[0;34m\u001b[0m\u001b[0m\n\u001b[1;32m      6\u001b[0m     \u001b[0minterval_group_df\u001b[0m \u001b[0;34m=\u001b[0m \u001b[0minterval_group_df\u001b[0m\u001b[0;34m.\u001b[0m\u001b[0mrename\u001b[0m\u001b[0;34m(\u001b[0m\u001b[0mcolumns\u001b[0m\u001b[0;34m=\u001b[0m\u001b[0;34m{\u001b[0m\u001b[0;34m\"interval_start\"\u001b[0m\u001b[0;34m:\u001b[0m \u001b[0;34m\"number_of_trips\"\u001b[0m\u001b[0;34m}\u001b[0m\u001b[0;34m)\u001b[0m\u001b[0;34m\u001b[0m\u001b[0;34m\u001b[0m\u001b[0m\n",
      "\u001b[0;32m~/anaconda3/envs/onos/lib/python3.8/site-packages/pandas/core/ops/common.py\u001b[0m in \u001b[0;36mnew_method\u001b[0;34m(self, other)\u001b[0m\n\u001b[1;32m     62\u001b[0m         \u001b[0mother\u001b[0m \u001b[0;34m=\u001b[0m \u001b[0mitem_from_zerodim\u001b[0m\u001b[0;34m(\u001b[0m\u001b[0mother\u001b[0m\u001b[0;34m)\u001b[0m\u001b[0;34m\u001b[0m\u001b[0;34m\u001b[0m\u001b[0m\n\u001b[1;32m     63\u001b[0m \u001b[0;34m\u001b[0m\u001b[0m\n\u001b[0;32m---> 64\u001b[0;31m         \u001b[0;32mreturn\u001b[0m \u001b[0mmethod\u001b[0m\u001b[0;34m(\u001b[0m\u001b[0mself\u001b[0m\u001b[0;34m,\u001b[0m \u001b[0mother\u001b[0m\u001b[0;34m)\u001b[0m\u001b[0;34m\u001b[0m\u001b[0;34m\u001b[0m\u001b[0m\n\u001b[0m\u001b[1;32m     65\u001b[0m \u001b[0;34m\u001b[0m\u001b[0m\n\u001b[1;32m     66\u001b[0m     \u001b[0;32mreturn\u001b[0m \u001b[0mnew_method\u001b[0m\u001b[0;34m\u001b[0m\u001b[0;34m\u001b[0m\u001b[0m\n",
      "\u001b[0;32m~/anaconda3/envs/onos/lib/python3.8/site-packages/pandas/core/ops/__init__.py\u001b[0m in \u001b[0;36mwrapper\u001b[0;34m(self, other)\u001b[0m\n\u001b[1;32m    527\u001b[0m         \u001b[0mrvalues\u001b[0m \u001b[0;34m=\u001b[0m \u001b[0mextract_array\u001b[0m\u001b[0;34m(\u001b[0m\u001b[0mother\u001b[0m\u001b[0;34m,\u001b[0m \u001b[0mextract_numpy\u001b[0m\u001b[0;34m=\u001b[0m\u001b[0;32mTrue\u001b[0m\u001b[0;34m)\u001b[0m\u001b[0;34m\u001b[0m\u001b[0;34m\u001b[0m\u001b[0m\n\u001b[1;32m    528\u001b[0m \u001b[0;34m\u001b[0m\u001b[0m\n\u001b[0;32m--> 529\u001b[0;31m         \u001b[0mres_values\u001b[0m \u001b[0;34m=\u001b[0m \u001b[0mcomparison_op\u001b[0m\u001b[0;34m(\u001b[0m\u001b[0mlvalues\u001b[0m\u001b[0;34m,\u001b[0m \u001b[0mrvalues\u001b[0m\u001b[0;34m,\u001b[0m \u001b[0mop\u001b[0m\u001b[0;34m)\u001b[0m\u001b[0;34m\u001b[0m\u001b[0;34m\u001b[0m\u001b[0m\n\u001b[0m\u001b[1;32m    530\u001b[0m \u001b[0;34m\u001b[0m\u001b[0m\n\u001b[1;32m    531\u001b[0m         \u001b[0;32mreturn\u001b[0m \u001b[0m_construct_result\u001b[0m\u001b[0;34m(\u001b[0m\u001b[0mself\u001b[0m\u001b[0;34m,\u001b[0m \u001b[0mres_values\u001b[0m\u001b[0;34m,\u001b[0m \u001b[0mindex\u001b[0m\u001b[0;34m=\u001b[0m\u001b[0mself\u001b[0m\u001b[0;34m.\u001b[0m\u001b[0mindex\u001b[0m\u001b[0;34m,\u001b[0m \u001b[0mname\u001b[0m\u001b[0;34m=\u001b[0m\u001b[0mres_name\u001b[0m\u001b[0;34m)\u001b[0m\u001b[0;34m\u001b[0m\u001b[0;34m\u001b[0m\u001b[0m\n",
      "\u001b[0;32m~/anaconda3/envs/onos/lib/python3.8/site-packages/pandas/core/ops/array_ops.py\u001b[0m in \u001b[0;36mcomparison_op\u001b[0;34m(left, right, op)\u001b[0m\n\u001b[1;32m    235\u001b[0m \u001b[0;34m\u001b[0m\u001b[0m\n\u001b[1;32m    236\u001b[0m     \u001b[0;32mif\u001b[0m \u001b[0mshould_extension_dispatch\u001b[0m\u001b[0;34m(\u001b[0m\u001b[0mlvalues\u001b[0m\u001b[0;34m,\u001b[0m \u001b[0mrvalues\u001b[0m\u001b[0;34m)\u001b[0m\u001b[0;34m:\u001b[0m\u001b[0;34m\u001b[0m\u001b[0;34m\u001b[0m\u001b[0m\n\u001b[0;32m--> 237\u001b[0;31m         \u001b[0mres_values\u001b[0m \u001b[0;34m=\u001b[0m \u001b[0mdispatch_to_extension_op\u001b[0m\u001b[0;34m(\u001b[0m\u001b[0mop\u001b[0m\u001b[0;34m,\u001b[0m \u001b[0mlvalues\u001b[0m\u001b[0;34m,\u001b[0m \u001b[0mrvalues\u001b[0m\u001b[0;34m)\u001b[0m\u001b[0;34m\u001b[0m\u001b[0;34m\u001b[0m\u001b[0m\n\u001b[0m\u001b[1;32m    238\u001b[0m \u001b[0;34m\u001b[0m\u001b[0m\n\u001b[1;32m    239\u001b[0m     \u001b[0;32melif\u001b[0m \u001b[0mis_scalar\u001b[0m\u001b[0;34m(\u001b[0m\u001b[0mrvalues\u001b[0m\u001b[0;34m)\u001b[0m \u001b[0;32mand\u001b[0m \u001b[0misna\u001b[0m\u001b[0;34m(\u001b[0m\u001b[0mrvalues\u001b[0m\u001b[0;34m)\u001b[0m\u001b[0;34m:\u001b[0m\u001b[0;34m\u001b[0m\u001b[0;34m\u001b[0m\u001b[0m\n",
      "\u001b[0;32m~/anaconda3/envs/onos/lib/python3.8/site-packages/pandas/core/ops/dispatch.py\u001b[0m in \u001b[0;36mdispatch_to_extension_op\u001b[0;34m(op, left, right)\u001b[0m\n\u001b[1;32m    123\u001b[0m     \u001b[0;31m# The op calls will raise TypeError if the op is not defined\u001b[0m\u001b[0;34m\u001b[0m\u001b[0;34m\u001b[0m\u001b[0;34m\u001b[0m\u001b[0m\n\u001b[1;32m    124\u001b[0m     \u001b[0;31m# on the ExtensionArray\u001b[0m\u001b[0;34m\u001b[0m\u001b[0;34m\u001b[0m\u001b[0;34m\u001b[0m\u001b[0m\n\u001b[0;32m--> 125\u001b[0;31m     \u001b[0mres_values\u001b[0m \u001b[0;34m=\u001b[0m \u001b[0mop\u001b[0m\u001b[0;34m(\u001b[0m\u001b[0mleft\u001b[0m\u001b[0;34m,\u001b[0m \u001b[0mright\u001b[0m\u001b[0;34m)\u001b[0m\u001b[0;34m\u001b[0m\u001b[0;34m\u001b[0m\u001b[0m\n\u001b[0m\u001b[1;32m    126\u001b[0m     \u001b[0;32mreturn\u001b[0m \u001b[0mres_values\u001b[0m\u001b[0;34m\u001b[0m\u001b[0;34m\u001b[0m\u001b[0m\n",
      "\u001b[0;32m~/anaconda3/envs/onos/lib/python3.8/site-packages/pandas/core/ops/common.py\u001b[0m in \u001b[0;36mnew_method\u001b[0;34m(self, other)\u001b[0m\n\u001b[1;32m     62\u001b[0m         \u001b[0mother\u001b[0m \u001b[0;34m=\u001b[0m \u001b[0mitem_from_zerodim\u001b[0m\u001b[0;34m(\u001b[0m\u001b[0mother\u001b[0m\u001b[0;34m)\u001b[0m\u001b[0;34m\u001b[0m\u001b[0;34m\u001b[0m\u001b[0m\n\u001b[1;32m     63\u001b[0m \u001b[0;34m\u001b[0m\u001b[0m\n\u001b[0;32m---> 64\u001b[0;31m         \u001b[0;32mreturn\u001b[0m \u001b[0mmethod\u001b[0m\u001b[0;34m(\u001b[0m\u001b[0mself\u001b[0m\u001b[0;34m,\u001b[0m \u001b[0mother\u001b[0m\u001b[0;34m)\u001b[0m\u001b[0;34m\u001b[0m\u001b[0;34m\u001b[0m\u001b[0m\n\u001b[0m\u001b[1;32m     65\u001b[0m \u001b[0;34m\u001b[0m\u001b[0m\n\u001b[1;32m     66\u001b[0m     \u001b[0;32mreturn\u001b[0m \u001b[0mnew_method\u001b[0m\u001b[0;34m\u001b[0m\u001b[0;34m\u001b[0m\u001b[0m\n",
      "\u001b[0;32m~/anaconda3/envs/onos/lib/python3.8/site-packages/pandas/core/arrays/datetimelike.py\u001b[0m in \u001b[0;36mwrapper\u001b[0;34m(self, other)\u001b[0m\n\u001b[1;32m     76\u001b[0m             \u001b[0mother_i8\u001b[0m \u001b[0;34m=\u001b[0m \u001b[0mself\u001b[0m\u001b[0;34m.\u001b[0m\u001b[0m_unbox_scalar\u001b[0m\u001b[0;34m(\u001b[0m\u001b[0mother\u001b[0m\u001b[0;34m)\u001b[0m\u001b[0;34m\u001b[0m\u001b[0;34m\u001b[0m\u001b[0m\n\u001b[1;32m     77\u001b[0m \u001b[0;34m\u001b[0m\u001b[0m\n\u001b[0;32m---> 78\u001b[0;31m             \u001b[0mresult\u001b[0m \u001b[0;34m=\u001b[0m \u001b[0mop\u001b[0m\u001b[0;34m(\u001b[0m\u001b[0mself\u001b[0m\u001b[0;34m.\u001b[0m\u001b[0mview\u001b[0m\u001b[0;34m(\u001b[0m\u001b[0;34m\"i8\"\u001b[0m\u001b[0;34m)\u001b[0m\u001b[0;34m,\u001b[0m \u001b[0mother_i8\u001b[0m\u001b[0;34m)\u001b[0m\u001b[0;34m\u001b[0m\u001b[0;34m\u001b[0m\u001b[0m\n\u001b[0m\u001b[1;32m     79\u001b[0m             \u001b[0;32mif\u001b[0m \u001b[0misna\u001b[0m\u001b[0;34m(\u001b[0m\u001b[0mother\u001b[0m\u001b[0;34m)\u001b[0m\u001b[0;34m:\u001b[0m\u001b[0;34m\u001b[0m\u001b[0;34m\u001b[0m\u001b[0m\n\u001b[1;32m     80\u001b[0m                 \u001b[0mresult\u001b[0m\u001b[0;34m.\u001b[0m\u001b[0mfill\u001b[0m\u001b[0;34m(\u001b[0m\u001b[0mnat_result\u001b[0m\u001b[0;34m)\u001b[0m\u001b[0;34m\u001b[0m\u001b[0;34m\u001b[0m\u001b[0m\n",
      "\u001b[0;31mKeyboardInterrupt\u001b[0m: "
     ]
    }
   ],
   "source": [
    "for i in range(len(ranges)-1):\n",
    "    interval_start, interval_end = ranges[i],ranges[i+1]\n",
    "    \n",
    "    interval_group_df = (all_trips_in_all_intervals_df[all_trips_in_all_intervals_df[\"interval_start\"] == interval_start]).groupby(['rental_place', 'return_place'], as_index=False).count()\n",
    "\n",
    "    interval_group_df = interval_group_df.rename(columns={\"interval_start\": \"number_of_trips\"})\n",
    "\n",
    "    interval_group_df[\"interval_start\"] = interval_start\n",
    "    interval_group_df[\"interval_end\"] = interval_end\n",
    "    \n",
    "    intervals_grouped_df = intervals_grouped_df.append(interval_group_df)"
   ]
  },
  {
   "cell_type": "code",
   "execution_count": null,
   "metadata": {},
   "outputs": [],
   "source": [
    "intervals_grouped_df"
   ]
  },
  {
   "cell_type": "markdown",
   "metadata": {},
   "source": [
    "## Save to CSV"
   ]
  },
  {
   "cell_type": "code",
   "execution_count": null,
   "metadata": {},
   "outputs": [],
   "source": [
    "# intervals_grouped_df.to_csv(join(\"plik.csv\"), index=False)"
   ]
  },
  {
   "cell_type": "code",
   "execution_count": null,
   "metadata": {},
   "outputs": [],
   "source": []
  },
  {
   "cell_type": "code",
   "execution_count": null,
   "metadata": {},
   "outputs": [],
   "source": []
  }
 ],
 "metadata": {
  "kernelspec": {
   "display_name": "Python 3",
   "language": "python",
   "name": "python3"
  },
  "language_info": {
   "codemirror_mode": {
    "name": "ipython",
    "version": 3
   },
   "file_extension": ".py",
   "mimetype": "text/x-python",
   "name": "python",
   "nbconvert_exporter": "python",
   "pygments_lexer": "ipython3",
   "version": "3.8.2"
  }
 },
 "nbformat": 4,
 "nbformat_minor": 4
}
