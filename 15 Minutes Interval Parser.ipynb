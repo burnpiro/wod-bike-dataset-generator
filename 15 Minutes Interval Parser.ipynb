{
 "cells": [
  {
   "cell_type": "markdown",
   "metadata": {},
   "source": [
    "## Preprocess data into 15 intervals"
   ]
  },
  {
   "cell_type": "markdown",
   "metadata": {},
   "source": [
    "## Imports"
   ]
  },
  {
   "cell_type": "code",
   "execution_count": 1,
   "metadata": {},
   "outputs": [],
   "source": [
    "import pandas as pd\n",
    "from os.path import join\n",
    "import datetime\n",
    "\n",
    "%matplotlib inline\n",
    "pd.set_option(\"display.precision\", 2)"
   ]
  },
  {
   "cell_type": "code",
   "execution_count": 2,
   "metadata": {},
   "outputs": [
    {
     "data": {
      "text/plain": [
       "'data_preprocessed/historia_przejazdow_2019-07.csv'"
      ]
     },
     "execution_count": 2,
     "metadata": {},
     "output_type": "execute_result"
    }
   ],
   "source": [
    "PATH = join(\"data_preprocessed\", \"historia_przejazdow_2019-07.csv\")\n",
    "PATH"
   ]
  },
  {
   "cell_type": "code",
   "execution_count": 3,
   "metadata": {},
   "outputs": [
    {
     "data": {
      "text/html": [
       "<div>\n",
       "<style scoped>\n",
       "    .dataframe tbody tr th:only-of-type {\n",
       "        vertical-align: middle;\n",
       "    }\n",
       "\n",
       "    .dataframe tbody tr th {\n",
       "        vertical-align: top;\n",
       "    }\n",
       "\n",
       "    .dataframe thead th {\n",
       "        text-align: right;\n",
       "    }\n",
       "</style>\n",
       "<table border=\"1\" class=\"dataframe\">\n",
       "  <thead>\n",
       "    <tr style=\"text-align: right;\">\n",
       "      <th></th>\n",
       "      <th>start_time</th>\n",
       "      <th>end_time</th>\n",
       "      <th>rental_place</th>\n",
       "      <th>return_place</th>\n",
       "    </tr>\n",
       "    <tr>\n",
       "      <th>bike_number</th>\n",
       "      <th></th>\n",
       "      <th></th>\n",
       "      <th></th>\n",
       "      <th></th>\n",
       "    </tr>\n",
       "  </thead>\n",
       "  <tbody>\n",
       "    <tr>\n",
       "      <th>57254</th>\n",
       "      <td>2019-06-30 23:54:42</td>\n",
       "      <td>2019-07-01 00:00:44</td>\n",
       "      <td>42</td>\n",
       "      <td>90</td>\n",
       "    </tr>\n",
       "    <tr>\n",
       "      <th>57413</th>\n",
       "      <td>2019-06-30 23:18:03</td>\n",
       "      <td>2019-07-01 00:01:01</td>\n",
       "      <td>86</td>\n",
       "      <td>61</td>\n",
       "    </tr>\n",
       "    <tr>\n",
       "      <th>650703</th>\n",
       "      <td>2019-06-30 23:51:05</td>\n",
       "      <td>2019-07-01 00:01:02</td>\n",
       "      <td>196</td>\n",
       "      <td>154</td>\n",
       "    </tr>\n",
       "    <tr>\n",
       "      <th>650374</th>\n",
       "      <td>2019-06-30 23:50:54</td>\n",
       "      <td>2019-07-01 00:01:24</td>\n",
       "      <td>112</td>\n",
       "      <td>115</td>\n",
       "    </tr>\n",
       "    <tr>\n",
       "      <th>650264</th>\n",
       "      <td>2019-06-30 23:57:33</td>\n",
       "      <td>2019-07-01 00:01:24</td>\n",
       "      <td>189</td>\n",
       "      <td>178</td>\n",
       "    </tr>\n",
       "  </tbody>\n",
       "</table>\n",
       "</div>"
      ],
      "text/plain": [
       "                      start_time             end_time  rental_place  \\\n",
       "bike_number                                                           \n",
       "57254        2019-06-30 23:54:42  2019-07-01 00:00:44            42   \n",
       "57413        2019-06-30 23:18:03  2019-07-01 00:01:01            86   \n",
       "650703       2019-06-30 23:51:05  2019-07-01 00:01:02           196   \n",
       "650374       2019-06-30 23:50:54  2019-07-01 00:01:24           112   \n",
       "650264       2019-06-30 23:57:33  2019-07-01 00:01:24           189   \n",
       "\n",
       "             return_place  \n",
       "bike_number                \n",
       "57254                  90  \n",
       "57413                  61  \n",
       "650703                154  \n",
       "650374                115  \n",
       "650264                178  "
      ]
     },
     "execution_count": 3,
     "metadata": {},
     "output_type": "execute_result"
    }
   ],
   "source": [
    "df = pd.read_csv(PATH, index_col=0, parse_dates=True)\n",
    "\n",
    "df.head()"
   ]
  },
  {
   "cell_type": "code",
   "execution_count": 4,
   "metadata": {},
   "outputs": [
    {
     "data": {
      "text/html": [
       "<div>\n",
       "<style scoped>\n",
       "    .dataframe tbody tr th:only-of-type {\n",
       "        vertical-align: middle;\n",
       "    }\n",
       "\n",
       "    .dataframe tbody tr th {\n",
       "        vertical-align: top;\n",
       "    }\n",
       "\n",
       "    .dataframe thead th {\n",
       "        text-align: right;\n",
       "    }\n",
       "</style>\n",
       "<table border=\"1\" class=\"dataframe\">\n",
       "  <thead>\n",
       "    <tr style=\"text-align: right;\">\n",
       "      <th></th>\n",
       "      <th>start_time</th>\n",
       "      <th>end_time</th>\n",
       "      <th>rental_place</th>\n",
       "      <th>return_place</th>\n",
       "    </tr>\n",
       "    <tr>\n",
       "      <th>bike_number</th>\n",
       "      <th></th>\n",
       "      <th></th>\n",
       "      <th></th>\n",
       "      <th></th>\n",
       "    </tr>\n",
       "  </thead>\n",
       "  <tbody>\n",
       "    <tr>\n",
       "      <th>57254</th>\n",
       "      <td>2019-06-30 23:54:42</td>\n",
       "      <td>2019-07-01 00:00:44</td>\n",
       "      <td>42</td>\n",
       "      <td>90</td>\n",
       "    </tr>\n",
       "    <tr>\n",
       "      <th>57413</th>\n",
       "      <td>2019-06-30 23:18:03</td>\n",
       "      <td>2019-07-01 00:01:01</td>\n",
       "      <td>86</td>\n",
       "      <td>61</td>\n",
       "    </tr>\n",
       "    <tr>\n",
       "      <th>650703</th>\n",
       "      <td>2019-06-30 23:51:05</td>\n",
       "      <td>2019-07-01 00:01:02</td>\n",
       "      <td>196</td>\n",
       "      <td>154</td>\n",
       "    </tr>\n",
       "    <tr>\n",
       "      <th>650374</th>\n",
       "      <td>2019-06-30 23:50:54</td>\n",
       "      <td>2019-07-01 00:01:24</td>\n",
       "      <td>112</td>\n",
       "      <td>115</td>\n",
       "    </tr>\n",
       "    <tr>\n",
       "      <th>650264</th>\n",
       "      <td>2019-06-30 23:57:33</td>\n",
       "      <td>2019-07-01 00:01:24</td>\n",
       "      <td>189</td>\n",
       "      <td>178</td>\n",
       "    </tr>\n",
       "  </tbody>\n",
       "</table>\n",
       "</div>"
      ],
      "text/plain": [
       "                     start_time            end_time  rental_place  \\\n",
       "bike_number                                                         \n",
       "57254       2019-06-30 23:54:42 2019-07-01 00:00:44            42   \n",
       "57413       2019-06-30 23:18:03 2019-07-01 00:01:01            86   \n",
       "650703      2019-06-30 23:51:05 2019-07-01 00:01:02           196   \n",
       "650374      2019-06-30 23:50:54 2019-07-01 00:01:24           112   \n",
       "650264      2019-06-30 23:57:33 2019-07-01 00:01:24           189   \n",
       "\n",
       "             return_place  \n",
       "bike_number                \n",
       "57254                  90  \n",
       "57413                  61  \n",
       "650703                154  \n",
       "650374                115  \n",
       "650264                178  "
      ]
     },
     "execution_count": 4,
     "metadata": {},
     "output_type": "execute_result"
    }
   ],
   "source": [
    "df['start_time']= pd.to_datetime(df['start_time']) \n",
    "df['end_time']= pd.to_datetime(df['end_time'])\n",
    "df.head()"
   ]
  },
  {
   "cell_type": "markdown",
   "metadata": {},
   "source": [
    "## Divide in intervals"
   ]
  },
  {
   "cell_type": "markdown",
   "metadata": {},
   "source": [
    "### Earliest rental "
   ]
  },
  {
   "cell_type": "code",
   "execution_count": 5,
   "metadata": {},
   "outputs": [
    {
     "data": {
      "text/plain": [
       "Timestamp('2019-06-30 00:00:00')"
      ]
     },
     "execution_count": 5,
     "metadata": {},
     "output_type": "execute_result"
    }
   ],
   "source": [
    "start = df.start_time.min()\n",
    "start = start.replace(hour=0, minute=0, second=0)\n",
    "start"
   ]
  },
  {
   "cell_type": "markdown",
   "metadata": {},
   "source": [
    "### Latest return"
   ]
  },
  {
   "cell_type": "code",
   "execution_count": 6,
   "metadata": {},
   "outputs": [
    {
     "data": {
      "text/plain": [
       "Timestamp('2019-08-01 00:00:00')"
      ]
     },
     "execution_count": 6,
     "metadata": {},
     "output_type": "execute_result"
    }
   ],
   "source": [
    "end = df.end_time.max()\n",
    "end = end.replace(hour=0, minute=0, second=0) + datetime.timedelta(days=1)\n",
    "\n",
    "end"
   ]
  },
  {
   "cell_type": "code",
   "execution_count": 7,
   "metadata": {},
   "outputs": [
    {
     "data": {
      "text/plain": [
       "DatetimeIndex(['2019-06-30 00:00:00', '2019-06-30 00:15:00',\n",
       "               '2019-06-30 00:30:00', '2019-06-30 00:45:00',\n",
       "               '2019-06-30 01:00:00', '2019-06-30 01:15:00',\n",
       "               '2019-06-30 01:30:00', '2019-06-30 01:45:00',\n",
       "               '2019-06-30 02:00:00', '2019-06-30 02:15:00',\n",
       "               ...\n",
       "               '2019-07-31 21:45:00', '2019-07-31 22:00:00',\n",
       "               '2019-07-31 22:15:00', '2019-07-31 22:30:00',\n",
       "               '2019-07-31 22:45:00', '2019-07-31 23:00:00',\n",
       "               '2019-07-31 23:15:00', '2019-07-31 23:30:00',\n",
       "               '2019-07-31 23:45:00', '2019-08-01 00:00:00'],\n",
       "              dtype='datetime64[ns]', length=3073, freq='15T')"
      ]
     },
     "execution_count": 7,
     "metadata": {},
     "output_type": "execute_result"
    }
   ],
   "source": [
    "ranges = pd.date_range(start, end,freq='15T')\n",
    "ranges"
   ]
  },
  {
   "cell_type": "code",
   "execution_count": 8,
   "metadata": {},
   "outputs": [
    {
     "data": {
      "text/html": [
       "<div>\n",
       "<style scoped>\n",
       "    .dataframe tbody tr th:only-of-type {\n",
       "        vertical-align: middle;\n",
       "    }\n",
       "\n",
       "    .dataframe tbody tr th {\n",
       "        vertical-align: top;\n",
       "    }\n",
       "\n",
       "    .dataframe thead th {\n",
       "        text-align: right;\n",
       "    }\n",
       "</style>\n",
       "<table border=\"1\" class=\"dataframe\">\n",
       "  <thead>\n",
       "    <tr style=\"text-align: right;\">\n",
       "      <th></th>\n",
       "      <th>interval_start</th>\n",
       "      <th>interval_end</th>\n",
       "      <th>rental_place</th>\n",
       "      <th>return_place</th>\n",
       "    </tr>\n",
       "  </thead>\n",
       "  <tbody>\n",
       "  </tbody>\n",
       "</table>\n",
       "</div>"
      ],
      "text/plain": [
       "Empty DataFrame\n",
       "Columns: [interval_start, interval_end, rental_place, return_place]\n",
       "Index: []"
      ]
     },
     "execution_count": 8,
     "metadata": {},
     "output_type": "execute_result"
    }
   ],
   "source": [
    "all_trips_in_all_intervals_df  = pd.DataFrame(columns=[\"interval_start\", \"interval_end\", \"rental_place\", \"return_place\"])\n",
    "all_trips_in_all_intervals_df   "
   ]
  },
  {
   "cell_type": "code",
   "execution_count": 9,
   "metadata": {},
   "outputs": [
    {
     "name": "stderr",
     "output_type": "stream",
     "text": [
      "<ipython-input-9-a70ccd99ed5b>:7: SettingWithCopyWarning: \n",
      "A value is trying to be set on a copy of a slice from a DataFrame.\n",
      "Try using .loc[row_indexer,col_indexer] = value instead\n",
      "\n",
      "See the caveats in the documentation: https://pandas.pydata.org/pandas-docs/stable/user_guide/indexing.html#returning-a-view-versus-a-copy\n",
      "  interval_df[\"interval_start\"] = interval_start\n",
      "<ipython-input-9-a70ccd99ed5b>:8: SettingWithCopyWarning: \n",
      "A value is trying to be set on a copy of a slice from a DataFrame.\n",
      "Try using .loc[row_indexer,col_indexer] = value instead\n",
      "\n",
      "See the caveats in the documentation: https://pandas.pydata.org/pandas-docs/stable/user_guide/indexing.html#returning-a-view-versus-a-copy\n",
      "  interval_df[\"interval_end\"] = interval_end\n"
     ]
    }
   ],
   "source": [
    "for i in range(len(ranges)-1):\n",
    "    interval_start, interval_end = ranges[i],ranges[i+1]\n",
    "    \n",
    "    interval_df = df[(df.start_time <= interval_end) & (df.end_time >= interval_start)]    \n",
    "    \n",
    "    \n",
    "    interval_df[\"interval_start\"] = interval_start\n",
    "    interval_df[\"interval_end\"] = interval_end\n",
    "    \n",
    "    all_trips_in_all_intervals_df = all_trips_in_all_intervals_df.append(interval_df[[\"interval_start\", \"interval_end\", \"rental_place\", \"return_place\"]])"
   ]
  },
  {
   "cell_type": "code",
   "execution_count": 10,
   "metadata": {},
   "outputs": [
    {
     "data": {
      "text/html": [
       "<div>\n",
       "<style scoped>\n",
       "    .dataframe tbody tr th:only-of-type {\n",
       "        vertical-align: middle;\n",
       "    }\n",
       "\n",
       "    .dataframe tbody tr th {\n",
       "        vertical-align: top;\n",
       "    }\n",
       "\n",
       "    .dataframe thead th {\n",
       "        text-align: right;\n",
       "    }\n",
       "</style>\n",
       "<table border=\"1\" class=\"dataframe\">\n",
       "  <thead>\n",
       "    <tr style=\"text-align: right;\">\n",
       "      <th></th>\n",
       "      <th>interval_start</th>\n",
       "      <th>interval_end</th>\n",
       "      <th>rental_place</th>\n",
       "      <th>return_place</th>\n",
       "    </tr>\n",
       "  </thead>\n",
       "  <tbody>\n",
       "    <tr>\n",
       "      <th>57369</th>\n",
       "      <td>2019-06-30 15:30:00</td>\n",
       "      <td>2019-06-30 15:45:00</td>\n",
       "      <td>97</td>\n",
       "      <td>154</td>\n",
       "    </tr>\n",
       "    <tr>\n",
       "      <th>57369</th>\n",
       "      <td>2019-06-30 15:45:00</td>\n",
       "      <td>2019-06-30 16:00:00</td>\n",
       "      <td>97</td>\n",
       "      <td>154</td>\n",
       "    </tr>\n",
       "    <tr>\n",
       "      <th>57369</th>\n",
       "      <td>2019-06-30 16:00:00</td>\n",
       "      <td>2019-06-30 16:15:00</td>\n",
       "      <td>97</td>\n",
       "      <td>154</td>\n",
       "    </tr>\n",
       "    <tr>\n",
       "      <th>57369</th>\n",
       "      <td>2019-06-30 16:15:00</td>\n",
       "      <td>2019-06-30 16:30:00</td>\n",
       "      <td>97</td>\n",
       "      <td>154</td>\n",
       "    </tr>\n",
       "    <tr>\n",
       "      <th>57369</th>\n",
       "      <td>2019-06-30 16:30:00</td>\n",
       "      <td>2019-06-30 16:45:00</td>\n",
       "      <td>97</td>\n",
       "      <td>154</td>\n",
       "    </tr>\n",
       "    <tr>\n",
       "      <th>...</th>\n",
       "      <td>...</td>\n",
       "      <td>...</td>\n",
       "      <td>...</td>\n",
       "      <td>...</td>\n",
       "    </tr>\n",
       "    <tr>\n",
       "      <th>650444</th>\n",
       "      <td>2019-07-31 23:45:00</td>\n",
       "      <td>2019-08-01 00:00:00</td>\n",
       "      <td>198</td>\n",
       "      <td>111</td>\n",
       "    </tr>\n",
       "    <tr>\n",
       "      <th>650780</th>\n",
       "      <td>2019-07-31 23:45:00</td>\n",
       "      <td>2019-08-01 00:00:00</td>\n",
       "      <td>121</td>\n",
       "      <td>119</td>\n",
       "    </tr>\n",
       "    <tr>\n",
       "      <th>650003</th>\n",
       "      <td>2019-07-31 23:45:00</td>\n",
       "      <td>2019-08-01 00:00:00</td>\n",
       "      <td>92</td>\n",
       "      <td>83</td>\n",
       "    </tr>\n",
       "    <tr>\n",
       "      <th>650520</th>\n",
       "      <td>2019-07-31 23:45:00</td>\n",
       "      <td>2019-08-01 00:00:00</td>\n",
       "      <td>128</td>\n",
       "      <td>38</td>\n",
       "    </tr>\n",
       "    <tr>\n",
       "      <th>650041</th>\n",
       "      <td>2019-07-31 23:45:00</td>\n",
       "      <td>2019-08-01 00:00:00</td>\n",
       "      <td>92</td>\n",
       "      <td>83</td>\n",
       "    </tr>\n",
       "  </tbody>\n",
       "</table>\n",
       "<p>580233 rows × 4 columns</p>\n",
       "</div>"
      ],
      "text/plain": [
       "            interval_start        interval_end rental_place return_place\n",
       "57369  2019-06-30 15:30:00 2019-06-30 15:45:00           97          154\n",
       "57369  2019-06-30 15:45:00 2019-06-30 16:00:00           97          154\n",
       "57369  2019-06-30 16:00:00 2019-06-30 16:15:00           97          154\n",
       "57369  2019-06-30 16:15:00 2019-06-30 16:30:00           97          154\n",
       "57369  2019-06-30 16:30:00 2019-06-30 16:45:00           97          154\n",
       "...                    ...                 ...          ...          ...\n",
       "650444 2019-07-31 23:45:00 2019-08-01 00:00:00          198          111\n",
       "650780 2019-07-31 23:45:00 2019-08-01 00:00:00          121          119\n",
       "650003 2019-07-31 23:45:00 2019-08-01 00:00:00           92           83\n",
       "650520 2019-07-31 23:45:00 2019-08-01 00:00:00          128           38\n",
       "650041 2019-07-31 23:45:00 2019-08-01 00:00:00           92           83\n",
       "\n",
       "[580233 rows x 4 columns]"
      ]
     },
     "execution_count": 10,
     "metadata": {},
     "output_type": "execute_result"
    }
   ],
   "source": [
    "all_trips_in_all_intervals_df"
   ]
  },
  {
   "cell_type": "markdown",
   "metadata": {},
   "source": [
    "## Group by rentsl/return place"
   ]
  },
  {
   "cell_type": "code",
   "execution_count": 11,
   "metadata": {},
   "outputs": [
    {
     "data": {
      "text/html": [
       "<div>\n",
       "<style scoped>\n",
       "    .dataframe tbody tr th:only-of-type {\n",
       "        vertical-align: middle;\n",
       "    }\n",
       "\n",
       "    .dataframe tbody tr th {\n",
       "        vertical-align: top;\n",
       "    }\n",
       "\n",
       "    .dataframe thead th {\n",
       "        text-align: right;\n",
       "    }\n",
       "</style>\n",
       "<table border=\"1\" class=\"dataframe\">\n",
       "  <thead>\n",
       "    <tr style=\"text-align: right;\">\n",
       "      <th></th>\n",
       "      <th>interval_start</th>\n",
       "      <th>interval_end</th>\n",
       "      <th>number_of_trips</th>\n",
       "      <th>rental_place</th>\n",
       "      <th>return_place</th>\n",
       "    </tr>\n",
       "  </thead>\n",
       "  <tbody>\n",
       "  </tbody>\n",
       "</table>\n",
       "</div>"
      ],
      "text/plain": [
       "Empty DataFrame\n",
       "Columns: [interval_start, interval_end, number_of_trips, rental_place, return_place]\n",
       "Index: []"
      ]
     },
     "execution_count": 11,
     "metadata": {},
     "output_type": "execute_result"
    }
   ],
   "source": [
    "intervals_grouped_df = pd.DataFrame(columns=[\"interval_start\", \"interval_end\", \"number_of_trips\", \"rental_place\", \"return_place\"])\n",
    "\n",
    "intervals_grouped_df"
   ]
  },
  {
   "cell_type": "code",
   "execution_count": 12,
   "metadata": {},
   "outputs": [],
   "source": [
    "for i in range(len(ranges)-1):\n",
    "    interval_start, interval_end = ranges[i],ranges[i+1]\n",
    "    \n",
    "    interval_group_df = (all_trips_in_all_intervals_df[all_trips_in_all_intervals_df[\"interval_start\"] == interval_start]).groupby(['rental_place', 'return_place'], as_index=False).count()\n",
    "\n",
    "    interval_group_df = interval_group_df.rename(columns={\"interval_start\": \"number_of_trips\"})\n",
    "\n",
    "    interval_group_df[\"interval_start\"] = interval_start\n",
    "    interval_group_df[\"interval_end\"] = interval_end\n",
    "    \n",
    "    intervals_grouped_df = intervals_grouped_df.append(interval_group_df)"
   ]
  },
  {
   "cell_type": "code",
   "execution_count": 13,
   "metadata": {},
   "outputs": [
    {
     "data": {
      "text/html": [
       "<div>\n",
       "<style scoped>\n",
       "    .dataframe tbody tr th:only-of-type {\n",
       "        vertical-align: middle;\n",
       "    }\n",
       "\n",
       "    .dataframe tbody tr th {\n",
       "        vertical-align: top;\n",
       "    }\n",
       "\n",
       "    .dataframe thead th {\n",
       "        text-align: right;\n",
       "    }\n",
       "</style>\n",
       "<table border=\"1\" class=\"dataframe\">\n",
       "  <thead>\n",
       "    <tr style=\"text-align: right;\">\n",
       "      <th></th>\n",
       "      <th>interval_start</th>\n",
       "      <th>interval_end</th>\n",
       "      <th>number_of_trips</th>\n",
       "      <th>rental_place</th>\n",
       "      <th>return_place</th>\n",
       "    </tr>\n",
       "  </thead>\n",
       "  <tbody>\n",
       "    <tr>\n",
       "      <th>0</th>\n",
       "      <td>2019-06-30 15:30:00</td>\n",
       "      <td>2019-06-30 15:45:00</td>\n",
       "      <td>1</td>\n",
       "      <td>97</td>\n",
       "      <td>154</td>\n",
       "    </tr>\n",
       "    <tr>\n",
       "      <th>0</th>\n",
       "      <td>2019-06-30 15:45:00</td>\n",
       "      <td>2019-06-30 16:00:00</td>\n",
       "      <td>1</td>\n",
       "      <td>97</td>\n",
       "      <td>154</td>\n",
       "    </tr>\n",
       "    <tr>\n",
       "      <th>0</th>\n",
       "      <td>2019-06-30 16:00:00</td>\n",
       "      <td>2019-06-30 16:15:00</td>\n",
       "      <td>1</td>\n",
       "      <td>97</td>\n",
       "      <td>154</td>\n",
       "    </tr>\n",
       "    <tr>\n",
       "      <th>0</th>\n",
       "      <td>2019-06-30 16:15:00</td>\n",
       "      <td>2019-06-30 16:30:00</td>\n",
       "      <td>1</td>\n",
       "      <td>97</td>\n",
       "      <td>154</td>\n",
       "    </tr>\n",
       "    <tr>\n",
       "      <th>0</th>\n",
       "      <td>2019-06-30 16:30:00</td>\n",
       "      <td>2019-06-30 16:45:00</td>\n",
       "      <td>1</td>\n",
       "      <td>97</td>\n",
       "      <td>154</td>\n",
       "    </tr>\n",
       "    <tr>\n",
       "      <th>...</th>\n",
       "      <td>...</td>\n",
       "      <td>...</td>\n",
       "      <td>...</td>\n",
       "      <td>...</td>\n",
       "      <td>...</td>\n",
       "    </tr>\n",
       "    <tr>\n",
       "      <th>37</th>\n",
       "      <td>2019-07-31 23:45:00</td>\n",
       "      <td>2019-08-01 00:00:00</td>\n",
       "      <td>1</td>\n",
       "      <td>161</td>\n",
       "      <td>62</td>\n",
       "    </tr>\n",
       "    <tr>\n",
       "      <th>38</th>\n",
       "      <td>2019-07-31 23:45:00</td>\n",
       "      <td>2019-08-01 00:00:00</td>\n",
       "      <td>1</td>\n",
       "      <td>172</td>\n",
       "      <td>61</td>\n",
       "    </tr>\n",
       "    <tr>\n",
       "      <th>39</th>\n",
       "      <td>2019-07-31 23:45:00</td>\n",
       "      <td>2019-08-01 00:00:00</td>\n",
       "      <td>1</td>\n",
       "      <td>190</td>\n",
       "      <td>176</td>\n",
       "    </tr>\n",
       "    <tr>\n",
       "      <th>40</th>\n",
       "      <td>2019-07-31 23:45:00</td>\n",
       "      <td>2019-08-01 00:00:00</td>\n",
       "      <td>1</td>\n",
       "      <td>196</td>\n",
       "      <td>196</td>\n",
       "    </tr>\n",
       "    <tr>\n",
       "      <th>41</th>\n",
       "      <td>2019-07-31 23:45:00</td>\n",
       "      <td>2019-08-01 00:00:00</td>\n",
       "      <td>2</td>\n",
       "      <td>198</td>\n",
       "      <td>111</td>\n",
       "    </tr>\n",
       "  </tbody>\n",
       "</table>\n",
       "<p>483333 rows × 5 columns</p>\n",
       "</div>"
      ],
      "text/plain": [
       "        interval_start        interval_end number_of_trips rental_place  \\\n",
       "0  2019-06-30 15:30:00 2019-06-30 15:45:00               1           97   \n",
       "0  2019-06-30 15:45:00 2019-06-30 16:00:00               1           97   \n",
       "0  2019-06-30 16:00:00 2019-06-30 16:15:00               1           97   \n",
       "0  2019-06-30 16:15:00 2019-06-30 16:30:00               1           97   \n",
       "0  2019-06-30 16:30:00 2019-06-30 16:45:00               1           97   \n",
       "..                 ...                 ...             ...          ...   \n",
       "37 2019-07-31 23:45:00 2019-08-01 00:00:00               1          161   \n",
       "38 2019-07-31 23:45:00 2019-08-01 00:00:00               1          172   \n",
       "39 2019-07-31 23:45:00 2019-08-01 00:00:00               1          190   \n",
       "40 2019-07-31 23:45:00 2019-08-01 00:00:00               1          196   \n",
       "41 2019-07-31 23:45:00 2019-08-01 00:00:00               2          198   \n",
       "\n",
       "   return_place  \n",
       "0           154  \n",
       "0           154  \n",
       "0           154  \n",
       "0           154  \n",
       "0           154  \n",
       "..          ...  \n",
       "37           62  \n",
       "38           61  \n",
       "39          176  \n",
       "40          196  \n",
       "41          111  \n",
       "\n",
       "[483333 rows x 5 columns]"
      ]
     },
     "execution_count": 13,
     "metadata": {},
     "output_type": "execute_result"
    }
   ],
   "source": [
    "intervals_grouped_df"
   ]
  },
  {
   "cell_type": "markdown",
   "metadata": {},
   "source": [
    "## Save to CSV"
   ]
  },
  {
   "cell_type": "code",
   "execution_count": 24,
   "metadata": {},
   "outputs": [],
   "source": [
    "intervals_grouped_df.to_csv(join(\"plik.csv\"), index=False)"
   ]
  },
  {
   "cell_type": "code",
   "execution_count": 22,
   "metadata": {},
   "outputs": [
    {
     "data": {
      "text/plain": [
       "533"
      ]
     },
     "execution_count": 22,
     "metadata": {},
     "output_type": "execute_result"
    }
   ],
   "source": [
    "intervals_grouped_df.groupby([\"interval_start\", \"interval_end\"], as_index=False).count()[\"number_of_trips\"].max()"
   ]
  },
  {
   "cell_type": "code",
   "execution_count": null,
   "metadata": {},
   "outputs": [],
   "source": []
  }
 ],
 "metadata": {
  "kernelspec": {
   "display_name": "Python 3",
   "language": "python",
   "name": "python3"
  },
  "language_info": {
   "codemirror_mode": {
    "name": "ipython",
    "version": 3
   },
   "file_extension": ".py",
   "mimetype": "text/x-python",
   "name": "python",
   "nbconvert_exporter": "python",
   "pygments_lexer": "ipython3",
   "version": "3.8.2"
  }
 },
 "nbformat": 4,
 "nbformat_minor": 4
}
