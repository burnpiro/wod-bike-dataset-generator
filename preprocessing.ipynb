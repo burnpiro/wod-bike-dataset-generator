{
 "cells": [
  {
   "cell_type": "code",
   "execution_count": 1,
   "metadata": {},
   "outputs": [],
   "source": [
    "import os\n",
    "import pandas as pd\n",
    "import numpy as np\n",
    "import pickle"
   ]
  },
  {
   "cell_type": "code",
   "execution_count": 2,
   "metadata": {},
   "outputs": [],
   "source": [
    "with open('stations.pkl', 'rb') as f:\n",
    "    wroclaw_stations = pickle.load(f)\n",
    "wroclaw_stations += ['Fabryczna (WSB)']\n",
    "\n",
    "cols = ['bike_number', 'start_time', 'end_time', 'rental_place', 'return_place']"
   ]
  },
  {
   "cell_type": "code",
   "execution_count": 3,
   "metadata": {},
   "outputs": [],
   "source": [
    "def trim_and_remove_slash(s):\n",
    "    return s.strip().replace('/', '-').replace('\"', '').replace(',', ' -').replace('\\xa0', '')"
   ]
  },
  {
   "cell_type": "code",
   "execution_count": 4,
   "metadata": {},
   "outputs": [],
   "source": [
    "def load_and_clear_data(filename):\n",
    "    print(filename)\n",
    "    data = pd.read_csv(filename, usecols=cols)\n",
    "    data['return_place'] = data['return_place'].apply(trim_and_remove_slash)\n",
    "    data['rental_place'] = data['rental_place'].apply(trim_and_remove_slash)\n",
    "    data = data[data.return_place.isin(wroclaw_stations) & data.rental_place.isin(wroclaw_stations)]\n",
    "    data.dropna()\n",
    "    return data"
   ]
  },
  {
   "cell_type": "code",
   "execution_count": 5,
   "metadata": {},
   "outputs": [],
   "source": [
    "def remove_longer_than_24(data):\n",
    "    data['rental_time'] = pd.to_timedelta(pd.DatetimeIndex(data['end_time']) - pd.DatetimeIndex(data['start_time']), unit='m')\n",
    "    data[data['rental_time'] > pd.to_timedelta(24, unit='h')]\n",
    "    return data.drop(columns=['rental_time'])"
   ]
  },
  {
   "cell_type": "code",
   "execution_count": 6,
   "metadata": {},
   "outputs": [
    {
     "name": "stdout",
     "output_type": "stream",
     "text": [
      "data/historia_przejazdow_2019-11.csv\n",
      "data/historia_przejazdow_2019-12.csv\n",
      "data/historia_przejazdow_2019-03.csv\n",
      "data/historia_przejazdow_2019-07.csv\n",
      "data/historia_przejazdow_2019-08.csv\n",
      "data/historia_przejazdow_2019-06.csv\n",
      "data/historia_przejazdow_2019-09.csv\n",
      "data/historia_przejazdow_2019-04.csv\n",
      "data/historia_przejazdow_2019-10.csv\n",
      "data/historia_przejazdow_2019-05.csv\n"
     ]
    }
   ],
   "source": [
    "data_directory = 'data'\n",
    "preprocessed_directory = 'data_preprocessed'\n",
    "os.makedirs(preprocessed_directory, exist_ok=True)\n",
    "for filename in os.listdir(data_directory):\n",
    "    if filename.endswith(\".csv\"):\n",
    "        data = load_and_clear_data(f'{data_directory}/{filename}')\n",
    "        data = remove_longer_than_24(data)\n",
    "        data.to_csv(f'{preprocessed_directory}/{filename}_preprocessed.csv', index=False)"
   ]
  },
  {
   "cell_type": "code",
   "execution_count": 108,
   "metadata": {},
   "outputs": [],
   "source": [
    "# import requests\n",
    "# import lxml.html as lh\n",
    "# import pandas as pd\n",
    "\n",
    "# url='https://wroclawskirower.pl/mapa-stacji/'\n",
    "# page = requests.get(url)\n",
    "# doc = lh.fromstring(page.content)\n",
    "# tr_elements = doc.xpath('//tr')\n",
    "# col=[]\n",
    "# for t in tr_elements[1:]:\n",
    "#     col.append(t[1].text_content())"
   ]
  }
 ],
 "metadata": {
  "kernelspec": {
   "display_name": "Python 3",
   "language": "python",
   "name": "python3"
  },
  "language_info": {
   "codemirror_mode": {
    "name": "ipython",
    "version": 3
   },
   "file_extension": ".py",
   "mimetype": "text/x-python",
   "name": "python",
   "nbconvert_exporter": "python",
   "pygments_lexer": "ipython3",
   "version": "3.8.2"
  }
 },
 "nbformat": 4,
 "nbformat_minor": 4
}
